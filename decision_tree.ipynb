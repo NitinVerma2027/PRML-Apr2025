{
  "cells": [
    {
      "cell_type": "markdown",
      "metadata": {
        "id": "view-in-github",
        "colab_type": "text"
      },
      "source": [
        "<a href=\"https://colab.research.google.com/github/NitinVerma2027/PRML-Apr2025/blob/main/decision_tree.ipynb\" target=\"_parent\"><img src=\"https://colab.research.google.com/assets/colab-badge.svg\" alt=\"Open In Colab\"/></a>"
      ]
    },
    {
      "cell_type": "code",
      "execution_count": 1,
      "metadata": {
        "id": "KU2s7ZxtFi4B"
      },
      "outputs": [],
      "source": [
        "import pandas as pd\n",
        "import numpy as np\n",
        "\n",
        "def load_mnist_csv(filename):\n",
        "    df = pd.read_csv(filename, header=None)  # CSV Load\n",
        "    df = df.dropna()  # NaN values hatao (Important)\n",
        "\n",
        "    try:\n",
        "        data = df.astype(float).to_numpy()  # Ensure sab numeric ho\n",
        "    except ValueError:\n",
        "        print(\"Error: CSV me non-numeric values hain!\")\n",
        "        return None, None\n",
        "\n",
        "    labels = data[:, 0].astype(int)  # First column = labels\n",
        "    images = data[:, 1:].astype(float) / 255.0  # Normalize pixel values\n",
        "    return images, labels\n",
        "\n",
        "# Entropy calculate karne ka function\n",
        "def entropy(y):\n",
        "    _, counts = np.unique(y, return_counts=True)\n",
        "    probabilities = counts / len(y)\n",
        "    return -np.sum(probabilities * np.log2(probabilities + 1e-9))  # small value to avoid log(0)\n",
        "\n",
        "# Best split dhoondhne ka function\n",
        "def best_split(X, y):\n",
        "    best_feature, best_threshold, best_gain = None, None, 0\n",
        "    for feature in range(X.shape[1]):\n",
        "        values = np.unique(X[:, feature])\n",
        "        for threshold in values:\n",
        "            left_mask = X[:, feature] < threshold\n",
        "            right_mask = ~left_mask\n",
        "            if np.sum(left_mask) == 0 or np.sum(right_mask) == 0:\n",
        "                continue\n",
        "            left_entropy = entropy(y[left_mask])\n",
        "            right_entropy = entropy(y[right_mask])\n",
        "            gain = entropy(y) - (np.sum(left_mask) / len(y)) * left_entropy - (np.sum(right_mask) / len(y)) * right_entropy\n",
        "            if gain > best_gain:\n",
        "                best_feature, best_threshold, best_gain = feature, threshold, gain\n",
        "    return best_feature, best_threshold\n",
        "\n",
        "# Decision Tree ka node class\n",
        "class Node:\n",
        "    def __init__(self, feature=None, threshold=None, left=None, right=None, value=None):\n",
        "        self.feature = feature\n",
        "        self.threshold = threshold\n",
        "        self.left = left\n",
        "        self.right = right\n",
        "        self.value = value\n",
        "\n",
        "# Tree build karne ka function\n",
        "def build_tree(X, y, depth=0, max_depth=10):\n",
        "    if len(np.unique(y)) == 1:\n",
        "        return Node(value=np.unique(y)[0])\n",
        "    if depth >= max_depth:\n",
        "        return Node(value=np.bincount(y).argmax())\n",
        "\n",
        "    feature, threshold = best_split(X, y)\n",
        "    if feature is None:\n",
        "        return Node(value=np.bincount(y).argmax())\n",
        "\n",
        "    left_mask = X[:, feature] < threshold\n",
        "    right_mask = ~left_mask\n",
        "    left_subtree = build_tree(X[left_mask], y[left_mask], depth + 1, max_depth)\n",
        "    right_subtree = build_tree(X[right_mask], y[right_mask], depth + 1, max_depth)\n",
        "\n",
        "    return Node(feature=feature, threshold=threshold, left=left_subtree, right=right_subtree)\n",
        "\n",
        "\n"
      ]
    },
    {
      "cell_type": "code",
      "execution_count": null,
      "metadata": {
        "id": "4NBRREWU-r2w"
      },
      "outputs": [],
      "source": []
    }
  ],
  "metadata": {
    "colab": {
      "provenance": [],
      "authorship_tag": "ABX9TyNL9RNHmuOSO9E75dqMjR8g",
      "include_colab_link": true
    },
    "kernelspec": {
      "display_name": "Python 3",
      "name": "python3"
    },
    "language_info": {
      "name": "python"
    }
  },
  "nbformat": 4,
  "nbformat_minor": 0
}