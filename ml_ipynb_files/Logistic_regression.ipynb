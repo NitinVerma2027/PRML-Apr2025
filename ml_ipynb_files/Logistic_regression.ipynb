{
  "nbformat": 4,
  "nbformat_minor": 0,
  "metadata": {
    "colab": {
      "provenance": [],
      "authorship_tag": "ABX9TyO/IokBq+zJhlj95shHP1SC",
      "include_colab_link": true
    },
    "kernelspec": {
      "name": "python3",
      "display_name": "Python 3"
    },
    "language_info": {
      "name": "python"
    }
  },
  "cells": [
    {
      "cell_type": "markdown",
      "metadata": {
        "id": "view-in-github",
        "colab_type": "text"
      },
      "source": [
        "<a href=\"https://colab.research.google.com/github/NitinVerma2027/PRML-Apr2025/blob/main/ml_ipynb_files/Logistic_regression.ipynb\" target=\"_parent\"><img src=\"https://colab.research.google.com/assets/colab-badge.svg\" alt=\"Open In Colab\"/></a>"
      ]
    },
    {
      "cell_type": "code",
      "execution_count": 2,
      "metadata": {
        "colab": {
          "base_uri": "https://localhost:8080/",
          "height": 227
        },
        "id": "7b77-x3CosOM",
        "outputId": "cee764f2-c4f6-4e8a-cb70-ba680a8e18ca"
      },
      "outputs": [
        {
          "output_type": "stream",
          "name": "stdout",
          "text": [
            "Reduced Training data shape: (10000, 784)\n",
            "Reduced Test data shape: (2000, 784)\n"
          ]
        },
        {
          "output_type": "display_data",
          "data": {
            "text/plain": [
              "<Figure size 1000x300 with 5 Axes>"
            ],
            "image/png": "[encoded data removed]"
          },
          "metadata": {}
        }
      ],
      "source": [
        "import numpy as np\n",
        "import matplotlib.pyplot as plt\n",
        "import seaborn as sns\n",
        "from tensorflow.keras.datasets import mnist\n",
        "from sklearn.metrics import accuracy_score, confusion_matrix, precision_score, recall_score, f1_score, roc_curve, auc\n",
        "from sklearn.model_selection import train_test_split\n",
        "\n",
        "# Load MNIST dataset\n",
        "(X_train_full, y_train_full), (X_test_full, y_test_full) = mnist.load_data()\n",
        "\n",
        "# Define subset size (reduce from 60,000 → 10,000 for train, 10,000 → 2,000 for test)\n",
        "train_size = 10000\n",
        "test_size = 2000\n",
        "\n",
        "# Flatten images (28x28 → 784) and normalize pixel values (0-1)\n",
        "X_train_full = X_train_full.reshape(X_train_full.shape[0], -1) / 255.0\n",
        "X_test_full = X_test_full.reshape(X_test_full.shape[0], -1) / 255.0\n",
        "\n",
        "# Create smaller dataset by random sampling while maintaining class balance\n",
        "X_train, _, y_train, _ = train_test_split(X_train_full, y_train_full, train_size=train_size, stratify=y_train_full, random_state=42)\n",
        "X_test, _, y_test, _ = train_test_split(X_test_full, y_test_full, train_size=test_size, stratify=y_test_full, random_state=42)\n",
        "\n",
        "# Verify new shapes\n",
        "print(f\"Reduced Training data shape: {X_train.shape}\")  # (10000, 784)\n",
        "print(f\"Reduced Test data shape: {X_test.shape}\")      # (2000, 784)\n",
        "\n",
        "# Display some sample images\n",
        "fig, axes = plt.subplots(1, 5, figsize=(10, 3))\n",
        "for i, ax in enumerate(axes):\n",
        "    ax.imshow(X_train[i].reshape(28, 28), cmap='gray')\n",
        "    ax.set_title(f\"Label: {y_train[i]}\")\n",
        "    ax.axis('off')\n",
        "plt.show()\n"
      ]
    }
  ]
}