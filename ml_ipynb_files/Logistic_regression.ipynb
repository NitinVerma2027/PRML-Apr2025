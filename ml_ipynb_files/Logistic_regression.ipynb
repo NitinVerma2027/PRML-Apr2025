{
  "nbformat": 4,
  "nbformat_minor": 0,
  "metadata": {
    "colab": {
      "provenance": [],
      "authorship_tag": "ABX9TyOAig2bMgULni9pr02fhDVp",
      "include_colab_link": true
    },
    "kernelspec": {
      "name": "python3",
      "display_name": "Python 3"
    },
    "language_info": {
      "name": "python"
    }
  },
  "cells": [
    {
      "cell_type": "markdown",
      "metadata": {
        "id": "view-in-github",
        "colab_type": "text"
      },
      "source": [
        "<a href=\"https://colab.research.google.com/github/NitinVerma2027/PRML-Apr2025/blob/main/ml_ipynb_files/Logistic_regression.ipynb\" target=\"_parent\"><img src=\"https://colab.research.google.com/assets/colab-badge.svg\" alt=\"Open In Colab\"/></a>"
      ]
    },
    {
      "cell_type": "code",
      "execution_count": 1,
      "metadata": {
        "colab": {
          "base_uri": "https://localhost:8080/",
          "height": 591
        },
        "id": "7b77-x3CosOM",
        "outputId": "73014d75-5342-4bec-9489-dff9048770f2"
      },
      "outputs": [
        {
          "output_type": "stream",
          "name": "stderr",
          "text": [
            "Downloading...\n",
            "From (original): https://drive.google.com/uc?id=1gj1rEzLDzNBpRswfqZaJxCFs5EwQSA87\n",
            "From (redirected): https://drive.google.com/uc?id=1gj1rEzLDzNBpRswfqZaJxCFs5EwQSA87&confirm=t&uuid=e3381cc3-6641-42f8-aaec-80083cb87368\n",
            "To: /content/dataset.csv\n",
            "100%|██████████| 110M/110M [00:01<00:00, 79.5MB/s]\n"
          ]
        },
        {
          "output_type": "stream",
          "name": "stdout",
          "text": [
            "   0    1    2    3    4    5    6    7    8    9    ...  775  776  777  778  \\\n",
            "0    5    0    0    0    0    0    0    0    0    0  ...    0    0    0    0   \n",
            "1    0    0    0    0    0    0    0    0    0    0  ...    0    0    0    0   \n",
            "2    4    0    0    0    0    0    0    0    0    0  ...    0    0    0    0   \n",
            "3    1    0    0    0    0    0    0    0    0    0  ...    0    0    0    0   \n",
            "4    9    0    0    0    0    0    0    0    0    0  ...    0    0    0    0   \n",
            "\n",
            "   779  780  781  782  783  784  \n",
            "0    0    0    0    0    0    0  \n",
            "1    0    0    0    0    0    0  \n",
            "2    0    0    0    0    0    0  \n",
            "3    0    0    0    0    0    0  \n",
            "4    0    0    0    0    0    0  \n",
            "\n",
            "[5 rows x 785 columns]\n",
            "Total available samples: 60000\n",
            "Training data shape: (48000, 784)\n",
            "Test data shape: (12000, 784)\n"
          ]
        },
        {
          "output_type": "display_data",
          "data": {
            "text/plain": [
              "<Figure size 1000x300 with 5 Axes>"
            ],
            "image/png": "[encoded data removed]"
          },
          "metadata": {}
        }
      ],
      "source": [
        "import numpy as np\n",
        "import gdown\n",
        "import pandas as pd\n",
        "import matplotlib.pyplot as plt\n",
        "from sklearn.metrics import confusion_matrix, precision_score, recall_score, f1_score, roc_curve, auc\n",
        "import seaborn as sns\n",
        "from sklearn.model_selection import train_test_split\n",
        "\n",
        "# File ID from Google Drive\n",
        "file_id = \"1gj1rEzLDzNBpRswfqZaJxCFs5EwQSA87\"\n",
        "url = f\"https://drive.google.com/uc?id={file_id}\"\n",
        "\n",
        "# Download the file\n",
        "output = \"dataset.csv\"\n",
        "gdown.download(url, output, quiet=False)\n",
        "\n",
        "# Read CSV into Pandas DataFrame\n",
        "df = pd.read_csv(output, header=None)  # No header in the dataset\n",
        "\n",
        "# Preview dataset structure\n",
        "print(df.head())\n",
        "\n",
        "# Extract labels (first column) and features (remaining columns)\n",
        "y = df.iloc[:, 0].values  # Labels\n",
        "X = df.iloc[:, 1:].values  # Features (pixel values)\n",
        "\n",
        "# Normalize pixel values (0-255 → 0-1)\n",
        "X = X / 255.0\n",
        "\n",
        "# Check available dataset size\n",
        "total_samples = X.shape[0]\n",
        "print(f\"Total available samples: {total_samples}\")\n",
        "\n",
        "# Define split ratios\n",
        "train_ratio = 0.8  # Use 80% for training, 20% for testing\n",
        "train_size = int(total_samples * train_ratio)\n",
        "test_size = total_samples - train_size  # Remaining for testing\n",
        "\n",
        "# Split dataset while maintaining class balance\n",
        "X_train, X_test, y_train, y_test = train_test_split(\n",
        "    X, y, train_size=train_size, test_size=test_size, stratify=y, random_state=42\n",
        ")\n",
        "\n",
        "# Verify shapes\n",
        "print(f\"Training data shape: {X_train.shape}\")  # Should be around 80% of total samples\n",
        "print(f\"Test data shape: {X_test.shape}\")       # Should be around 20% of total samples\n",
        "\n",
        "# Display some sample images|\n",
        "fig, axes = plt.subplots(1, 5, figsize=(10, 3))\n",
        "for i, ax in enumerate(axes):\n",
        "    ax.imshow(X_train[i].reshape(28, 28), cmap=\"gray\")\n",
        "    ax.set_title(f\"Label: {y_train[i]}\")\n",
        "    ax.axis(\"off\")\n",
        "\n",
        "plt.show()\n"
      ]
    },
    {
      "cell_type": "code",
      "source": [
        "# Sigmoid function\n",
        "def sigmoid(z):\n",
        "    return 1 / (1 + np.exp(-z))\n",
        "\n",
        "# Initialize weights and bias\n",
        "def initialize_parameters(n_features):\n",
        "    w = np.zeros((n_features, 1))  # Column vector for weights\n",
        "    b = 0  # Bias\n",
        "    return w, b\n",
        "\n",
        "# Compute cost (Log Loss)\n",
        "def compute_cost(X, y, w, b):\n",
        "    m = X.shape[0]  # Number of samples\n",
        "    z = np.dot(X, w) + b  # Linear combination\n",
        "    y_pred = sigmoid(z)  # Apply sigmoid\n",
        "\n",
        "    # Clip values to avoid log(0) errors\n",
        "    y_pred = np.clip(y_pred, 1e-10, 1 - 1e-10)\n",
        "\n",
        "    # Compute cost (Log Loss)\n",
        "    cost = (-1 / m) * np.sum(y * np.log(y_pred) + (1 - y) * np.log(1 - y_pred))\n",
        "    return cost\n",
        "\n",
        "# Compute gradients\n",
        "def compute_gradients(X, y, w, b):\n",
        "    m = X.shape[0]  # Number of samples\n",
        "    z = np.dot(X, w) + b\n",
        "    y_pred = sigmoid(z)\n",
        "\n",
        "    dw = (1 / m) * np.dot(X.T, (y_pred - y))  # Gradient for weights\n",
        "    db = (1 / m) * np.sum(y_pred - y)  # Gradient for bias\n",
        "\n",
        "    return dw, db\n"
      ],
      "metadata": {
        "id": "GE3GqLSLh2j7"
      },
      "execution_count": 2,
      "outputs": []
    },
    {
      "cell_type": "code",
      "source": [
        "# Gradient Descent\n",
        "def gradient_descent(X, y, w, b, learning_rate, num_iterations):\n",
        "    cost_history = []  # Store cost values\n",
        "\n",
        "    for i in range(num_iterations):\n",
        "        dw, db = compute_gradients(X, y, w, b)\n",
        "\n",
        "        # Update weights and bias\n",
        "        w -= learning_rate * dw\n",
        "        b -= learning_rate * db\n",
        "\n",
        "        # Compute cost and store it\n",
        "        cost = compute_cost(X, y, w, b)\n",
        "        cost_history.append(cost)\n",
        "\n",
        "        # Print cost every 100 iterations\n",
        "        if i % 100 == 0:\n",
        "            print(f\"Iteration {i}: Cost = {cost:.4f}\")\n",
        "\n",
        "    return w, b, cost_history\n"
      ],
      "metadata": {
        "id": "TkKfyeMsh8b6"
      },
      "execution_count": 3,
      "outputs": []
    },
    {
      "cell_type": "code",
      "source": [
        "# Convert labels to One-vs-All format\n",
        "def one_vs_all_labels(y, digit):\n",
        "    return (y == digit).astype(int)  # Convert to binary (1 if digit, 0 otherwise)\n",
        "\n",
        "num_classes = 10\n",
        "num_iterations = 3000\n",
        "learning_rate = 0.1\n",
        "\n",
        "models = []  # Store trained (w, b) for each digit\n",
        "\n",
        "for digit in range(num_classes):\n",
        "    print(f\"Training model for digit {digit} vs. all...\")\n",
        "\n",
        "    # Convert labels for current digit\n",
        "    y_train_digit = one_vs_all_labels(y_train, digit).reshape(-1, 1)\n",
        "    y_test_digit = one_vs_all_labels(y_test, digit).reshape(-1, 1)\n",
        "\n",
        "    # Initialize weights and bias\n",
        "    w, b = initialize_parameters(X_train.shape[1])\n",
        "\n",
        "    # Train logistic regression model\n",
        "    w_trained, b_trained, _ = gradient_descent(X_train, y_train_digit, w, b, learning_rate, num_iterations)\n",
        "\n",
        "    # Store trained model\n",
        "    models.append((w_trained, b_trained))\n"
      ],
      "metadata": {
        "id": "TYgpxsoYh_V6"
      },
      "execution_count": null,
      "outputs": []
    }
  ]
}