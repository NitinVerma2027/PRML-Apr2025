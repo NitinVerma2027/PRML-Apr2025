{
  "nbformat": 4,
  "nbformat_minor": 0,
  "metadata": {
    "colab": {
      "provenance": [],
      "authorship_tag": "ABX9TyNfZ5NS7HKcjc95WqxLgyIt",
      "include_colab_link": true
    },
    "kernelspec": {
      "name": "python3",
      "display_name": "Python 3"
    },
    "language_info": {
      "name": "python"
    }
  },
  "cells": [
    {
      "cell_type": "markdown",
      "metadata": {
        "id": "view-in-github",
        "colab_type": "text"
      },
      "source": [
        "<a href=\"https://colab.research.google.com/github/NitinVerma2027/PRML-Apr2025/blob/main/ml_ipynb_files/Logistic_regression.ipynb\" target=\"_parent\"><img src=\"https://colab.research.google.com/assets/colab-badge.svg\" alt=\"Open In Colab\"/></a>"
      ]
    },
    {
      "cell_type": "code",
      "execution_count": 7,
      "metadata": {
        "colab": {
          "base_uri": "https://localhost:8080/",
          "height": 261
        },
        "id": "7b77-x3CosOM",
        "outputId": "05415152-c8f9-434f-ef69-86d4861e4eee"
      },
      "outputs": [
        {
          "output_type": "stream",
          "name": "stdout",
          "text": [
            "Dataset Preview:\n",
            "Total available samples: 10000\n",
            "Training data shape: (8000, 784)\n",
            "Test data shape: (2000, 784)\n"
          ]
        },
        {
          "output_type": "display_data",
          "data": {
            "text/plain": [
              "<Figure size 1000x300 with 5 Axes>"
            ],
            "image/png": "[encoded data removed]"
          },
          "metadata": {}
        }
      ],
      "source": [
        "import numpy as np\n",
        "import pandas as pd\n",
        "import matplotlib.pyplot as plt\n",
        "from sklearn.model_selection import train_test_split\n",
        "\n",
        "# File ID from Google Drive\n",
        "file_id = \"1Saukj_bynfqvzqaX2h35HF_RKeXB8so2\"\n",
        "url = f\"https://drive.google.com/uc?id={file_id}\"\n",
        "\n",
        "# Read CSV into Pandas DataFrame\n",
        "df = pd.read_csv(url, header=None)  # No header in the dataset\n",
        "\n",
        "# Extract labels (first column) and features (remaining columns)\n",
        "y = df.iloc[:, 0].values  # Labels\n",
        "X = df.iloc[:, 1:].values  # Features (pixel values)\n",
        "\n",
        "# Normalize pixel values (0-255 → 0-1)\n",
        "X = X / 255.0\n",
        "\n",
        "# Check available dataset size\n",
        "total_samples = X.shape[0]\n",
        "print(f\"Total available samples: {total_samples}\")\n",
        "\n",
        "# Define split ratios\n",
        "train_ratio = 0.8  # Use 80% for training, 20% for testing\n",
        "train_size = int(total_samples * train_ratio)\n",
        "test_size = total_samples - train_size  # Remaining for testing\n",
        "\n",
        "# Split dataset while maintaining class balance\n",
        "X_train, X_test, y_train, y_test = train_test_split(\n",
        "    X, y, train_size=train_size, test_size=test_size, stratify=y, random_state=42\n",
        ")\n",
        "\n",
        "# Verify shapes\n",
        "print(f\"Training data shape: {X_train.shape}\")  # Should be around 80% of total samples\n",
        "print(f\"Test data shape: {X_test.shape}\")       # Should be around 20% of total samples\n",
        "\n",
        "# Display some sample images\n",
        "fig, axes = plt.subplots(1, 5, figsize=(10, 3))\n",
        "for i, ax in enumerate(axes):\n",
        "    ax.imshow(X_train[i].reshape(28, 28), cmap=\"gray\")\n",
        "    ax.set_title(f\"Label: {y_train[i]}\")\n",
        "    ax.axis(\"off\")\n",
        "\n",
        "plt.show()\n"
      ]
    },
    {
      "cell_type": "code",
      "source": [
        "# Sigmoid function\n",
        "def sigmoid(z):\n",
        "    return 1 / (1 + np.exp(-z))\n",
        "\n",
        "# Initialize weights and bias\n",
        "def initialize_parameters(n_features):\n",
        "    w = np.zeros((n_features, 1))  # Column vector for weights\n",
        "    b = 0  # Bias\n",
        "    return w, b\n",
        "\n",
        "# Compute cost (Log Loss)\n",
        "def compute_cost(X, y, w, b):\n",
        "    m = X.shape[0]  # Number of samples\n",
        "    z = np.dot(X, w) + b  # Linear combination\n",
        "    y_pred = sigmoid(z)  # Apply sigmoid\n",
        "\n",
        "    # Clip values to avoid log(0) errors\n",
        "    y_pred = np.clip(y_pred, 1e-10, 1 - 1e-10)\n",
        "\n",
        "    # Compute cost (Log Loss)\n",
        "    cost = (-1 / m) * np.sum(y * np.log(y_pred) + (1 - y) * np.log(1 - y_pred))\n",
        "    return cost\n",
        "\n",
        "# Compute gradients\n",
        "def compute_gradients(X, y, w, b):\n",
        "    m = X.shape[0]  # Number of samples\n",
        "    z = np.dot(X, w) + b\n",
        "    y_pred = sigmoid(z)\n",
        "\n",
        "    dw = (1 / m) * np.dot(X.T, (y_pred - y))  # Gradient for weights\n",
        "    db = (1 / m) * np.sum(y_pred - y)  # Gradient for bias\n",
        "\n",
        "    return dw, db\n"
      ],
      "metadata": {
        "id": "3Mnrul9TrDdh"
      },
      "execution_count": 8,
      "outputs": []
    }
  ]
}