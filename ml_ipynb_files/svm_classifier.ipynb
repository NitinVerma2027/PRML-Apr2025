{
  "nbformat": 4,
  "nbformat_minor": 0,
  "metadata": {
    "colab": {
      "provenance": []
    },
    "kernelspec": {
      "name": "python3",
      "display_name": "Python 3"
    },
    "language_info": {
      "name": "python"
    }
  },
  "cells": [
    {
      "cell_type": "code",
      "execution_count": null,
      "metadata": {
        "colab": {
          "base_uri": "https://localhost:8080/"
        },
        "id": "dokmRbSlmTEp",
        "outputId": "f8a6a9f7-5935-4cbc-dc87-cd4faa331911"
      },
      "outputs": [
        {
          "output_type": "stream",
          "name": "stdout",
          "text": [
            "this is for output values"
          ]
        }
      ],
      "source": [
        "print('first copy your code from colab and convert that to json format and paste here (in source section) or add by adding comma')\n"
      ]
    }
  ]
}
