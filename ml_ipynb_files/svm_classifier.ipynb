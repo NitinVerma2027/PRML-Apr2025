{
  "nbformat": 4,
  "nbformat_minor": 0,
  "metadata": {
    "colab": {
      "provenance": [],
      "authorship_tag": "ABX9TyPMMaEdtiwRbXgdzdQiflme",
      "include_colab_link": true
    },
    "kernelspec": {
      "name": "python3",
      "display_name": "Python 3"
    },
    "language_info": {
      "name": "python"
    }
  },
  "cells": [
    {
      "cell_type": "markdown",
      "metadata": {
        "id": "view-in-github",
        "colab_type": "text"
      },
      "source": [
        "<a href=\"https://colab.research.google.com/github/NitinVerma2027/PRML-Apr2025/blob/main/ml_ipynb_files/svm_classifier.ipynb\" target=\"_parent\"><img src=\"https://colab.research.google.com/assets/colab-badge.svg\" alt=\"Open In Colab\"/></a>"
      ]
    },
    {
      "cell_type": "markdown",
      "source": [
        "## 📌 Support Vector Machines"
      ],
      "metadata": {
        "id": "syVCVI_8jNbt"
      }
    },
    {
      "cell_type": "markdown",
      "source": [
        "## Understanding the Problem  \n",
        "We are working on classifying handwritten digits using the MNIST dataset. Each image in this dataset is 28x28 pixels, and the data is provided in CSV format, where each row represents a flattened grayscale image.  \n",
        "\n",
        "## Dataset Overview  \n",
        "- **Size:** 60,000 rows × 785 columns  \n",
        "- **First Column:** The label (y), representing digits from 0 to 9  \n",
        "- **Next 784 Columns:** Pixel values (X), indicating grayscale intensities  \n",
        "- **Pixel Range:** 0 to 255 (normalized to 0-1 for better model performance)  \n",
        "\n",
        "For this task, we will train a Support Vector Machine (SVM) using Stochastic Gradient Descent (SGD), which is well-suited for large datasets like MNIST.\n"
      ],
      "metadata": {
        "id": "rREnnCkljWAt"
      }
    },
    {
      "cell_type": "code",
      "execution_count": null,
      "metadata": {
        "colab": {
          "base_uri": "https://localhost:8080/",
          "height": 643
        },
        "id": "wZoLrErMcGoG",
        "outputId": "92762552-65e4-41ad-c707-f42caa8cee64"
      },
      "outputs": [
        {
          "output_type": "stream",
          "name": "stderr",
          "text": [
            "Downloading...\n",
            "From (original): https://drive.google.com/uc?id=1gj1rEzLDzNBpRswfqZaJxCFs5EwQSA87\n",
            "From (redirected): https://drive.google.com/uc?id=1gj1rEzLDzNBpRswfqZaJxCFs5EwQSA87&confirm=t&uuid=356d8d58-64f1-472d-92ed-ecb90100d99a\n",
            "To: /content/train_dataset.csv\n",
            "100%|██████████| 110M/110M [00:01<00:00, 78.2MB/s]\n",
            "Downloading...\n",
            "From: https://drive.google.com/uc?id=1MX9ckuU6rhL3PaVvflrXsZ-0m2bFeWsy\n",
            "To: /content/test_dataset.csv\n",
            "100%|██████████| 18.3M/18.3M [00:00<00:00, 42.0MB/s]\n"
          ]
        },
        {
          "output_type": "stream",
          "name": "stdout",
          "text": [
            "   0    1    2    3    4    5    6    7    8    9    ...  775  776  777  778  \\\n",
            "0    5    0    0    0    0    0    0    0    0    0  ...    0    0    0    0   \n",
            "1    0    0    0    0    0    0    0    0    0    0  ...    0    0    0    0   \n",
            "2    4    0    0    0    0    0    0    0    0    0  ...    0    0    0    0   \n",
            "3    1    0    0    0    0    0    0    0    0    0  ...    0    0    0    0   \n",
            "4    9    0    0    0    0    0    0    0    0    0  ...    0    0    0    0   \n",
            "\n",
            "   779  780  781  782  783  784  \n",
            "0    0    0    0    0    0    0  \n",
            "1    0    0    0    0    0    0  \n",
            "2    0    0    0    0    0    0  \n",
            "3    0    0    0    0    0    0  \n",
            "4    0    0    0    0    0    0  \n",
            "\n",
            "[5 rows x 785 columns]\n",
            "Training data shape: (60000, 784)\n",
            "Test data shape: (10000, 784)\n"
          ]
        },
        {
          "output_type": "display_data",
          "data": {
            "text/plain": [
              "<Figure size 1000x300 with 5 Axes>"
            ],
            "image/png": "[encoded data removed]"
          },
          "metadata": {}
        }
      ],
      "source": [
        "import numpy as np\n",
        "import gdown\n",
        "import pandas as pd\n",
        "import matplotlib.pyplot as plt\n",
        "from sklearn.metrics import confusion_matrix, roc_curve, auc\n",
        "import seaborn as sns\n",
        "\n",
        "#----------------------------------------------------------------------\n",
        "# file import from derive\n",
        "train_file_id = \"1gj1rEzLDzNBpRswfqZaJxCFs5EwQSA87\"\n",
        "test_file_id = \"1MX9ckuU6rhL3PaVvflrXsZ-0m2bFeWsy\"\n",
        "\n",
        "train_url = f\"https://drive.google.com/uc?id={train_file_id}\"\n",
        "test_url = f\"https://drive.google.com/uc?id={test_file_id}\"\n",
        "\n",
        "\n",
        "# downloading file\n",
        "train_output = \"train_dataset.csv\"\n",
        "test_output = \"test_dataset.csv\"\n",
        "\n",
        "gdown.download(train_url, train_output, quiet=False)\n",
        "gdown.download(test_url, test_output, quiet=False)\n",
        "\n",
        "\n",
        "# dataframe formation\n",
        "train_df = pd.read_csv(train_output, header=None)\n",
        "test_df = pd.read_csv(test_output, header=None)\n",
        "\n",
        "\n",
        "print(train_df.head())\n",
        "#----------------------------------------------------------------------\n",
        "\n",
        "# making y = label(1st column) and x = row (other column).\n",
        "\n",
        "#for train dataset\n",
        "y_train = train_df.iloc[:, 0].values  # Labels\n",
        "X_train = train_df.iloc[:, 1:].values  # Features (pixel values)\n",
        "\n",
        "#for test dataset\n",
        "y_test = test_df.iloc[:, 0].values  # Labels\n",
        "X_test = test_df.iloc[:, 1:].values  # Features (pixel values)\n",
        "\n",
        "# normalize pixel values (0-255 → 0-1)\n",
        "X_train = X_train / 255.0\n",
        "X_test = X_test / 255.0\n",
        "\n",
        "# shape of train and test\n",
        "print(f\"Training data shape: {X_train.shape}\")\n",
        "print(f\"Test data shape: {X_test.shape}\")\n",
        "\n",
        "#----------------------------------------------------------------------\n",
        "\n",
        "# displaying some images.|\n",
        "fig, axes = plt.subplots(1, 5, figsize=(10, 3))\n",
        "for i, ax in enumerate(axes):\n",
        "    ax.imshow(X_train[i].reshape(28, 28), cmap=\"gray\")\n",
        "    ax.set_title(f\"Label: {y_train[i]}\")\n",
        "    ax.axis(\"off\")\n",
        "\n",
        "plt.show()"
      ]
    },
    {
      "cell_type": "markdown",
      "source": [
        "###  Custom Multi-Class Support Vector Machine (SVM) with Stochastic Gradient Descent (SGD)\n",
        "\n",
        "This implementation aims to find optimal hyperplanes that separate different classes for multi-class classification, specifically tailored for the MNIST dataset with 10 classes. It utilizes a One-vs-All (OvA) strategy.\n",
        "\n",
        "🔹 Why Custom SGD?\n",
        "* **Fine-grained Control:** Allows for direct manipulation of learning rates, regularization, and batch sizes.\n",
        "* **Educational Purpose:** Provides a deeper understanding of the SVM training process with SGD.\n",
        "* **Efficiency for Large Datasets:** Handles the 60k samples of MNIST effectively by updating weights iteratively.\n",
        "\n",
        "⚙ Model Training:\n",
        "We implement a custom `FastMultiClassSVM` class that:\n",
        "\n",
        "* Uses the hinge loss function, inherent to SVM.\n",
        "* Applies L2 regularization (lambda_param) to prevent overfitting.\n",
        "* Trains with mini-batch SGD for efficient learning.\n",
        "* Calculates and stores the total cost (regularized hinge loss) during training.\n",
        "\n",
        "The provided code then trains the model with different learning rates to observe their impact on performance."
      ],
      "metadata": {
        "id": "pxnJwFW449uk"
      }
    },
    {
      "cell_type": "code",
      "source": [
        "import numpy as np\n",
        "from sklearn.metrics import accuracy_score, classification_report\n",
        "class FastMultiClassSVM:\n",
        "    def __init__(self, learning_rate=0.015, lambda_param=0.008, epochs=750, batch_size=256):\n",
        "        self.learning_rate = learning_rate\n",
        "        self.lambda_param = lambda_param\n",
        "        self.epochs = epochs\n",
        "        self.batch_size = batch_size\n",
        "        self.classes = None\n",
        "        self.models = {}  # Dictionary to store (W, b) for each class\n",
        "\n",
        "    def fit(self, X, y):\n",
        "        \"\"\"Train SVM using Mini-Batch SGD (One-vs-All).\"\"\"\n",
        "        self.classes = np.unique(y)  # Unique digit labels (0-9)\n",
        "        m, n = X.shape  # Samples, Features\n",
        "\n",
        "        for digit in self.classes:\n",
        "            print(f\"Training for digit {digit}...\")\n",
        "            y_binary = np.where(y == digit, 1, -1)  # Convert labels to {+1, -1}\n",
        "\n",
        "            W = np.zeros(n)  # Initialize weights\n",
        "            b = 0  # Initialize bias\n",
        "\n",
        "            for epoch in range(self.epochs):\n",
        "                indices = np.random.permutation(m)  # Shuffle data each epoch\n",
        "                X_shuffled, y_shuffled = X[indices], y_binary[indices]\n",
        "\n",
        "                for batch_start in range(0, m, self.batch_size):\n",
        "                    batch_end = batch_start + self.batch_size\n",
        "                    X_batch = X_shuffled[batch_start:batch_end]\n",
        "                    y_batch = y_shuffled[batch_start:batch_end]\n",
        "\n",
        "                    # Compute margins for the batch\n",
        "                    margins = y_batch * (np.dot(X_batch, W) + b)\n",
        "                    misclassified = margins < 1  # Boolean mask for misclassified points\n",
        "\n",
        "                    # Compute gradients\n",
        "                    W_gradient = 2 * self.lambda_param * W - np.dot(y_batch[misclassified], X_batch[misclassified])\n",
        "                    b_gradient = -np.sum(y_batch[misclassified])\n",
        "\n",
        "                    # Update weights\n",
        "                    W -= self.learning_rate * W_gradient / self.batch_size\n",
        "                    b -= self.learning_rate * b_gradient / self.batch_size\n",
        "\n",
        "                if epoch % 100 == 0:\n",
        "                    print(f\"Epoch {epoch}/{self.epochs} completed\")\n",
        "\n",
        "            self.models[digit] = (W, b)  # Store trained model\n",
        "\n",
        "    def predict(self, X):\n",
        "        \"\"\"Predict class labels using One-vs-All strategy.\"\"\"\n",
        "        scores = np.zeros((X.shape[0], len(self.classes)))  # Store decision scores\n",
        "\n",
        "        for i, digit in enumerate(self.classes):\n",
        "            W, b = self.models[digit]\n",
        "            scores[:, i] = np.dot(X, W) + b  # Compute scores for each class\n",
        "\n",
        "        return self.classes[np.argmax(scores, axis=1)]  # Pick class with highest score\n"
      ],
      "metadata": {
        "id": "DnBv4uxFcXik"
      },
      "execution_count": null,
      "outputs": []
    },
    {
      "cell_type": "code",
      "source": [
        "# Initialize & Train SVM\n",
        "fast_svm = FastMultiClassSVM(learning_rate=0.015, lambda_param=0.008, epochs=750, batch_size=256)\n",
        "fast_svm.fit(X_train, y_train)\n"
      ],
      "metadata": {
        "colab": {
          "base_uri": "https://localhost:8080/"
        },
        "id": "XFjbq2B3OV-K",
        "outputId": "4d701816-f935-43db-f465-ed50f8bba234"
      },
      "execution_count": null,
      "outputs": [
        {
          "output_type": "stream",
          "name": "stdout",
          "text": [
            "Training for digit 0...\n",
            "Epoch 0/750 completed\n",
            "Epoch 100/750 completed\n",
            "Epoch 200/750 completed\n",
            "Epoch 300/750 completed\n",
            "Epoch 400/750 completed\n",
            "Epoch 500/750 completed\n",
            "Epoch 600/750 completed\n",
            "Epoch 700/750 completed\n",
            "Training for digit 1...\n",
            "Epoch 0/750 completed\n",
            "Epoch 100/750 completed\n",
            "Epoch 200/750 completed\n",
            "Epoch 300/750 completed\n",
            "Epoch 400/750 completed\n",
            "Epoch 500/750 completed\n",
            "Epoch 600/750 completed\n",
            "Epoch 700/750 completed\n",
            "Training for digit 2...\n",
            "Epoch 0/750 completed\n",
            "Epoch 100/750 completed\n",
            "Epoch 200/750 completed\n",
            "Epoch 300/750 completed\n",
            "Epoch 400/750 completed\n",
            "Epoch 500/750 completed\n",
            "Epoch 600/750 completed\n",
            "Epoch 700/750 completed\n",
            "Training for digit 3...\n",
            "Epoch 0/750 completed\n",
            "Epoch 100/750 completed\n",
            "Epoch 200/750 completed\n",
            "Epoch 300/750 completed\n",
            "Epoch 400/750 completed\n",
            "Epoch 500/750 completed\n",
            "Epoch 600/750 completed\n",
            "Epoch 700/750 completed\n",
            "Training for digit 4...\n",
            "Epoch 0/750 completed\n",
            "Epoch 100/750 completed\n",
            "Epoch 200/750 completed\n",
            "Epoch 300/750 completed\n",
            "Epoch 400/750 completed\n",
            "Epoch 500/750 completed\n",
            "Epoch 600/750 completed\n",
            "Epoch 700/750 completed\n",
            "Training for digit 5...\n",
            "Epoch 0/750 completed\n",
            "Epoch 100/750 completed\n",
            "Epoch 200/750 completed\n",
            "Epoch 300/750 completed\n",
            "Epoch 400/750 completed\n",
            "Epoch 500/750 completed\n",
            "Epoch 600/750 completed\n",
            "Epoch 700/750 completed\n",
            "Training for digit 6...\n",
            "Epoch 0/750 completed\n",
            "Epoch 100/750 completed\n",
            "Epoch 200/750 completed\n",
            "Epoch 300/750 completed\n",
            "Epoch 400/750 completed\n",
            "Epoch 500/750 completed\n",
            "Epoch 600/750 completed\n",
            "Epoch 700/750 completed\n",
            "Training for digit 7...\n",
            "Epoch 0/750 completed\n",
            "Epoch 100/750 completed\n",
            "Epoch 200/750 completed\n",
            "Epoch 300/750 completed\n",
            "Epoch 400/750 completed\n",
            "Epoch 500/750 completed\n",
            "Epoch 600/750 completed\n",
            "Epoch 700/750 completed\n",
            "Training for digit 8...\n",
            "Epoch 0/750 completed\n",
            "Epoch 100/750 completed\n",
            "Epoch 200/750 completed\n",
            "Epoch 300/750 completed\n",
            "Epoch 400/750 completed\n",
            "Epoch 500/750 completed\n",
            "Epoch 600/750 completed\n",
            "Epoch 700/750 completed\n",
            "Training for digit 9...\n",
            "Epoch 0/750 completed\n",
            "Epoch 100/750 completed\n",
            "Epoch 200/750 completed\n",
            "Epoch 300/750 completed\n",
            "Epoch 400/750 completed\n",
            "Epoch 500/750 completed\n",
            "Epoch 600/750 completed\n",
            "Epoch 700/750 completed\n"
          ]
        }
      ]
    },
    {
      "cell_type": "code",
      "source": [
        "# Predict on test data\n",
        "y_pred = fast_svm.predict(X_test)\n",
        "\n",
        "# Compute accuracy\n",
        "accuracy = accuracy_score(y_test, y_pred)\n",
        "print(f\"Updated Custom SVM Accuracy: {accuracy:.4f}\")\n",
        "\n",
        "# Classification Report\n",
        "print(\"\\nClassification Report:\")\n",
        "print(classification_report(y_test, y_pred))\n"
      ],
      "metadata": {
        "id": "0l0uSGIIpo_w",
        "outputId": "271199a4-018d-449c-ee33-4909cc9f752b",
        "colab": {
          "base_uri": "https://localhost:8080/"
        }
      },
      "execution_count": null,
      "outputs": [
        {
          "output_type": "stream",
          "name": "stdout",
          "text": [
            "Updated Custom SVM Accuracy: 0.9223\n",
            "\n",
            "Classification Report:\n",
            "              precision    recall  f1-score   support\n",
            "\n",
            "           0       0.94      0.98      0.96       980\n",
            "           1       0.97      0.98      0.97      1135\n",
            "           2       0.93      0.90      0.92      1032\n",
            "           3       0.91      0.91      0.91      1010\n",
            "           4       0.91      0.93      0.92       982\n",
            "           5       0.89      0.87      0.88       892\n",
            "           6       0.93      0.95      0.94       958\n",
            "           7       0.93      0.92      0.93      1028\n",
            "           8       0.88      0.87      0.88       974\n",
            "           9       0.91      0.89      0.90      1009\n",
            "\n",
            "    accuracy                           0.92     10000\n",
            "   macro avg       0.92      0.92      0.92     10000\n",
            "weighted avg       0.92      0.92      0.92     10000\n",
            "\n"
          ]
        }
      ]
    },
    {
      "cell_type": "markdown",
      "source": [
        "###  Cost Function: Hinge Loss\n",
        "\n",
        "SVMs use the **hinge loss function** to maximize the margin between classes:\n",
        "\n",
        "$$\n",
        "L(\\mathbf{w}) = \\sum_{i=1}^{N} \\max(0, 1 - y_i (\\mathbf{w} \\cdot \\mathbf{x}_i + b)) + \\frac{\\lambda}{2} \\|\\mathbf{w}\\|^2\n",
        "$$\n",
        "\n",
        "Where:\n",
        "- $ y_i $ is the true label.\n",
        "- $ \\mathbf{x}_i $ is the input feature vector.\n",
        "- $ \\mathbf{w} $ is the weight vector.\n",
        "- $ b $ is the bias term.\n",
        "- $ \\lambda $ is the regularization parameter.\n"
      ],
      "metadata": {
        "id": "2fwjqKCd5BRS"
      }
    },
    {
      "cell_type": "markdown",
      "source": [
        "###  Precision, Recall, and F1-Score\n",
        "\n",
        "We evaluate the model using the following metrics:\n",
        "\n",
        "- **Precision** ($ P $): How many predicted digits were correct?\n",
        "  $$\n",
        "  P = \\frac{TP}{TP + FP}\n",
        "  $$\n",
        "\n",
        "- **Recall** ($ R $): How many actual digits were correctly predicted?\n",
        "  $$\n",
        "  R = \\frac{TP}{TP + FN}\n",
        "  $$\n",
        "\n",
        "- **F1-score**: A balance between precision and recall.\n",
        "  $$\n",
        "  F1 = 2 \\times \\frac{P \\times R}{P + R}\n",
        "  $$\n"
      ],
      "metadata": {
        "id": "i4N8Nk_n6crK"
      }
    },
    {
      "cell_type": "markdown",
      "source": [
        "## **Conclusion: Multi-Class SVM with Mini-Batch SGD on MNIST**  \n",
        "\n",
        "### **Key Takeaways**  \n",
        "This study implemented a **Multi-Class Support Vector Machine (SVM)** for MNIST digit classification using the **One-vs-All (OvA) strategy**. Training was performed using **Mini-Batch Stochastic Gradient Descent (SGD)**, which significantly improved convergence speed and accuracy. By optimizing the **learning rate (0.015), regularization parameter (0.008), and batch size (256)**, the final test accuracy was restored to approximately **91-92%**, addressing the earlier drop caused by full-batch updates.  \n",
        "\n",
        "### **Why Mini-Batch SGD Improved Performance?**  \n",
        "1. **Faster Convergence** – Weight updates occur after each mini-batch instead of waiting for the entire dataset.  \n",
        "2. **Better Generalization** – Mini-Batch SGD helps escape sharp local minima and reduces overfitting.  \n",
        "3. **Scalability** – Handles large datasets like MNIST (60K samples) efficiently compared to full-batch training.  \n",
        "\n",
        "### **Future Enhancements**  \n",
        "- **Adaptive Learning Rates** – Methods such as Adam or Momentum-SGD could be explored to further optimize convergence.  \n",
        "- **Kernel SVM** – Adding non-linear kernels may improve classification for more complex datasets.  \n",
        "- **Comparison with CNNs** – Deep learning models like Convolutional Neural Networks (CNNs) typically outperform SVMs on image classification tasks and could be evaluated as an alternative approach.  \n",
        "\n",
        "### **Final Thoughts**  \n",
        "This optimized implementation successfully achieves **high classification accuracy** while maintaining computational efficiency. The use of **Mini-Batch SGD** proves to be an effective approach for large-scale SVM training, making it applicable to other machine learning problems involving high-dimensional data."
      ],
      "metadata": {
        "id": "dR4Rl8IH677F"
      }
    }
  ]
}