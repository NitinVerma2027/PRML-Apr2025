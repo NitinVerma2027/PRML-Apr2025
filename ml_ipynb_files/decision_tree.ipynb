{
  "cells": [
    {
      "cell_type": "markdown",
      "metadata": {
        "id": "view-in-github",
        "colab_type": "text"
      },
      "source": [
        "<a href=\"https://colab.research.google.com/github/NitinVerma2027/PRML-Apr2025/blob/main/ml_ipynb_files/decision_tree.ipynb\" target=\"_parent\"><img src=\"https://colab.research.google.com/assets/colab-badge.svg\" alt=\"Open In Colab\"/></a>"
      ]
    },
    {
      "cell_type": "markdown",
      "metadata": {
        "id": "EZvYMf99P5gq"
      },
      "source": [
        "depth variation accracy\n"
      ]
    },
    {
      "cell_type": "code",
      "source": [
        "import numpy as np\n",
        "import pandas as pd\n",
        "import matplotlib.pyplot as plt\n",
        "import gdown  # To download files from Google Drive\n",
        "from sklearn.model_selection import train_test_split\n",
        "from sklearn.metrics import accuracy_score, precision_score, recall_score, f1_score, roc_curve, auc\n",
        "\n",
        "# File ID from Google Drive\n",
        "file_id = \"1gj1rEzLDzNBpRswfqZaJxCFs5EwQSA87\"\n",
        "url = f\"https://drive.google.com/uc?id={file_id}\"\n",
        "\n",
        "# Download the file\n",
        "output = \"dataset.csv\"\n",
        "gdown.download(url, output, quiet=False)\n",
        "\n",
        "# Read CSV into Pandas DataFrame\n",
        "df = pd.read_csv(output, header=None)  # No header in the dataset\n",
        "\n",
        "# Preview dataset structure\n",
        "print(df.head())\n",
        "\n",
        "# Extract labels (first column) and features (remaining columns)\n",
        "y = df.iloc[:, 0].values  # Labels\n",
        "X = df.iloc[:, 1:].values  # Features (pixel values)\n",
        "\n",
        "# Normalize pixel values (0-255 → 0-1)\n",
        "X = X / 255.0\n",
        "\n",
        "# Split dataset\n",
        "X_train, X_test, y_train, y_test = train_test_split(X, y, test_size=0.2, stratify=y, random_state=42)\n"
      ],
      "metadata": {
        "id": "Ea83ORYaGdQb"
      },
      "execution_count": null,
      "outputs": []
    },
    {
      "cell_type": "code",
      "source": [
        "# Decision Tree main code\n",
        "def entropy(y):\n",
        "    _, counts = np.unique(y, return_counts=True)\n",
        "    probabilities = counts / len(y)\n",
        "    return -np.sum(probabilities * np.log2(probabilities + 1e-9))  # small value to avoid log(0)\n",
        "\n",
        "def best_split(X, y):\n",
        "    best_feature, best_threshold, best_gain = None, None, 0\n",
        "    for feature in range(X.shape[1]):\n",
        "        values = np.unique(X[:, feature])\n",
        "        for threshold in values:\n",
        "            left_mask = X[:, feature] < threshold\n",
        "            right_mask = ~left_mask\n",
        "            if np.sum(left_mask) == 0 or np.sum(right_mask) == 0:\n",
        "                continue\n",
        "            left_entropy = entropy(y[left_mask])\n",
        "            right_entropy = entropy(y[right_mask])\n",
        "            gain = entropy(y) - (np.sum(left_mask) / len(y)) * left_entropy - (np.sum(right_mask) / len(y)) * right_entropy\n",
        "            if gain > best_gain:\n",
        "                best_feature, best_threshold, best_gain = feature, threshold, gain\n",
        "    return best_feature, best_threshold\n"
      ],
      "metadata": {
        "id": "bMGo713vUYAD"
      },
      "execution_count": null,
      "outputs": []
    },
    {
      "cell_type": "code",
      "source": [
        "class Node:\n",
        "    def __init__(self, feature=None, threshold=None, left=None, right=None, value=None):\n",
        "        self.feature = feature\n",
        "        self.threshold = threshold\n",
        "        self.left = left\n",
        "        self.right = right\n",
        "        self.value = value\n",
        "\n",
        "def build_tree(X, y, depth=0, max_depth=10):\n",
        "    if len(np.unique(y)) == 1:\n",
        "        return Node(value=np.unique(y)[0])\n",
        "    if depth >= max_depth:\n",
        "        return Node(value=np.bincount(y).argmax())\n",
        "\n",
        "    feature, threshold = best_split(X, y)\n",
        "    if feature is None:\n",
        "        return Node(value=np.bincount(y).argmax())\n",
        "\n",
        "    left_mask = X[:, feature] < threshold\n",
        "    right_mask = ~left_mask\n",
        "    left_subtree = build_tree(X[left_mask], y[left_mask], depth + 1, max_depth)\n",
        "    right_subtree = build_tree(X[right_mask], y[right_mask], depth + 1, max_depth)\n",
        "\n",
        "    return Node(feature=feature, threshold=threshold, left=left_subtree, right=right_subtree)\n",
        "\n",
        "def predict(tree, X):\n",
        "    predictions = []\n",
        "    for sample in X:\n",
        "        node = tree\n",
        "        while node.left or node.right:\n",
        "            if sample[node.feature] < node.threshold:\n",
        "                node = node.left\n",
        "            else:\n",
        "                node = node.right\n",
        "        predictions.append(node.value)\n",
        "    return np.array(predictions)"
      ],
      "metadata": {
        "id": "bUAgWL8sUisn"
      },
      "execution_count": null,
      "outputs": []
    },
    {
      "cell_type": "code",
      "source": [
        "def evaluate_model(y_true, y_pred):\n",
        "    accuracy = accuracy_score(y_true, y_pred) * 100\n",
        "    precision = precision_score(y_true, y_pred, average='weighted') * 100\n",
        "    recall = recall_score(y_true, y_pred, average='weighted') * 100\n",
        "    f1 = f1_score(y_true, y_pred, average='weighted') * 100\n",
        "\n",
        "    print(f\"Accuracy: {accuracy:.2f}%\")\n",
        "    print(f\"Precision: {precision:.2f}%\")\n",
        "    print(f\"Recall: {recall:.2f}%\")\n",
        "    print(f\"F1 Score: {f1:.2f}%\")"
      ],
      "metadata": {
        "id": "xkdJH2zeUlRe"
      },
      "execution_count": null,
      "outputs": []
    }
  ],
  "metadata": {
    "colab": {
      "provenance": [],
      "authorship_tag": "ABX9TyOgeApQRMKkH11Gj0lMCc+J",
      "include_colab_link": true
    },
    "kernelspec": {
      "display_name": "Python 3",
      "name": "python3"
    },
    "language_info": {
      "name": "python"
    }
  },
  "nbformat": 4,
  "nbformat_minor": 0
}