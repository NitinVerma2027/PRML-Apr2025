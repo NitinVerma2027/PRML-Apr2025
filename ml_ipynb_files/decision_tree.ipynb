{
  "nbformat": 4,
  "nbformat_minor": 0,
  "metadata": {
    "colab": {
      "provenance": []
    },
    "kernelspec": {
      "name": "python3",
      "display_name": "Python 3"
    },
    "language_info": {
      "name": "python"
    }
  },
  "cells": [
    {
      "cell_type": "code",
      "execution_count": null,
      "metadata": {
        "colab": {
          "base_uri": "https://localhost:8080/"
        },
        "id": "dokmRbSlmTEp",
        "outputId": "f8a6a9f7-5935-4cbc-dc87-cd4faa331911"
      },
      "outputs": [
        {
          "output_type": "stream",
          "name": "stdout",
          "text": [
            "Handwritten digit recognition using a DECISION TREE\n"
          ]
        }
      ],
      "source": [
        "# Handwritten digit recognition using a DECISION TREE\n",
        "import pandas as pd\n",
        "import numpy as np\n",
        "\n",
        "# Load dataset\n",
        "def load_mnist_csv(filename):\n",
        "    df = pd.read_csv(filename, header=None)  # CSV Load\n",
        "    df = df.dropna()  # NaN values hatao (Important)\n",
        "    \n",
        "    try:\n",
        "        data = df.astype(float).to_numpy()  # Ensure sab numeric ho\n",
        "    except ValueError:\n",
        "        print(\"Error: CSV me non-numeric values hain!\")\n",
        "        return None, None\n",
        "\n",
        "    labels = data[:, 0].astype(int)  # First column = labels\n",
        "    images = data[:, 1:].astype(float) / 255.0  # Normalize pixel values\n",
        "    return images, labels\n",
        "\n",
        "# Entropy calculate karne ka function\n",
        "def entropy(y):\n",
        "    _, counts = np.unique(y, return_counts=True)\n",
        "    probabilities = counts / len(y)\n",
        "    return -np.sum(probabilities * np.log2(probabilities + 1e-9))  # small value to avoid log(0)\n",
        "\n",
        "# Best split dhoondhne ka function\n",
        "def best_split(X, y):\n",
        "    best_feature, best_threshold, best_gain = None, None, 0\n",
        "    for feature in range(X.shape[1]):\n",
        "        values = np.unique(X[:, feature])\n",
        "        for threshold in values:\n",
        "            left_mask = X[:, feature] < threshold\n",
        "            right_mask = ~left_mask\n",
        "            if np.sum(left_mask) == 0 or np.sum(right_mask) == 0:\n",
        "                continue\n",
        "            left_entropy = entropy(y[left_mask])\n",
        "            right_entropy = entropy(y[right_mask])\n",
        "            gain = entropy(y) - (np.sum(left_mask) / len(y)) * left_entropy - (np.sum(right_mask) / len(y)) * right_entropy\n",
        "            if gain > best_gain:\n",
        "                best_feature, best_threshold, best_gain = feature, threshold, gain\n",
        "    return best_feature, best_threshold\n"
      ]
    }
  ]
}
