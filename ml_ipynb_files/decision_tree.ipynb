# Handwritten digit recognition using a DECISION TREE
import pandas as pd
import numpy as np

#load dataset
def load_mnist_csv(filename):
    df = pd.read_csv(filename, header=None)  # CSV Load
    df = df.dropna()  # NaN values hatao (Important)

    try:
        data = df.astype(float).to_numpy()  # Ensure sab numeric ho
    except ValueError:
        print("Error: CSV me non-numeric values hain!")
        return None, None

    labels = data[:, 0].astype(int)  # First column = labels
    images = data[:, 1:].astype(float) / 255.0  # Normalize pixel values
    return images, labels


# Entropy calculate karne ka function
def entropy(y):
    _, counts = np.unique(y, return_counts=True)
    probabilities = counts / len(y)
    return -np.sum(probabilities * np.log2(probabilities + 1e-9))  # small value to avoid log(0)

# Best split dhoondhne ka function
def best_split(X, y):
    best_feature, best_threshold, best_gain = None, None, 0
    for feature in range(X.shape[1]):
        values = np.unique(X[:, feature])
        for threshold in values:
            left_mask = X[:, feature] < threshold
            right_mask = ~left_mask
            if np.sum(left_mask) == 0 or np.sum(right_mask) == 0:
                continue
            left_entropy = entropy(y[left_mask])
            right_entropy = entropy(y[right_mask])
            gain = entropy(y) - (np.sum(left_mask) / len(y)) * left_entropy - (np.sum(right_mask) / len(y)) * right_entropy
            if gain > best_gain:
                best_feature, best_threshold, best_gain = feature, threshold, gain
    return best_feature, best_threshold

