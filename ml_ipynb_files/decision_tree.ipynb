# Handwritten digit recognition using a DECISION TREE
import pandas as pd
import numpy as np


def load_mnist_csv(filename):
    df = pd.read_csv(filename, header=None)  # CSV Load
    df = df.dropna()  # NaN values hatao (Important)

    try:
        data = df.astype(float).to_numpy()  # Ensure sab numeric ho
    except ValueError:
        print("Error: CSV me non-numeric values hain!")
        return None, None

    labels = data[:, 0].astype(int)  # First column = labels
    images = data[:, 1:].astype(float) / 255.0  # Normalize pixel values
    return images, labels



