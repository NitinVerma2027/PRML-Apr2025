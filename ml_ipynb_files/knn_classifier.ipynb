{
  "nbformat": 4,
  "nbformat_minor": 0,
  "metadata": {
    "colab": {
      "provenance": []
    },
    "kernelspec": {
      "name": "python3",
      "display_name": "Python 3"
    },
    "language_info": {
      "name": "python"
    }
  },
  "cells": [
    {
      "cell_type": "code",
      "execution_count": null,
      "metadata": {
        "colab": {
          "base_uri": "https://localhost:8080/"
        },
        "id": "dokmRbSlmTEp",
        "outputId": "f8a6a9f7-5935-4cbc-dc87-cd4faa331911"
      },
      "outputs": [
        {
          "output_type": "stream",
          "name": "stdout",
          "text": [
            "this is for output values"
          ]
        }
      ],
      "source": [
        "print('first copy your code from colab and convert that to json format and paste here (in source section) or add by adding comma')\n"
      ]
    }
  ]
}
import pandas as pd
import zipfile
import os

# Define the path to the uploaded file
zip_path = "/content/MNIST_CSV.zip"
extract_path = "/mnt/data/mnist_data"

# Extract the ZIP file
with zipfile.ZipFile(zip_path, 'r') as zip_ref:
    zip_ref.extractall(extract_path)

# List the extracted files
extracted_files = os.listdir(extract_path)
print("Extracted Files:", extracted_files)

# Load the CSV files (assuming standard MNIST naming conventions)
train_file = os.path.join(extract_path, "mnist_train.csv")  # Update filename if needed
test_file = os.path.join(extract_path, "mnist_test.csv")  # Update filename if needed

# Read the CSV files
train_data = pd.read_csv(train_file)
test_data = pd.read_csv(test_file)

# Display first few rows of each dataset
print("\nTraining Data Preview:")
print(train_data.head())

print("\nTesting Data Preview:")
print(test_data.head())

# Check dataset shape
print("\nTraining Data Shape:", train_data.shape)
print("Testing Data Shape:", test_data.shape)
