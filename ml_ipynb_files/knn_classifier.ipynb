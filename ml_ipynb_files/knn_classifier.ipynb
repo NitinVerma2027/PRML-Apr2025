{
  "nbformat": 4,
  "nbformat_minor": 0,
  "metadata": {
    "colab": {
      "provenance": []
    },
    "kernelspec": {
      "name": "python3",
      "display_name": "Python 3"
    },
    "language_info": {
      "name": "python"
    }
  },
  "cells": [
    {
      "cell_type": "code",
      "execution_count": null,
      "metadata": {
        "colab": {
          "base_uri": "https://localhost:8080/"
        },
        "id": "dokmRbSlmTEp",
        "outputId": "f8a6a9f7-5935-4cbc-dc87-cd4faa331911"
      },
      "outputs": [
        {
          "output_type": "stream",
          "name": "stdout",
          "text": [
            "this is for output values"
          ]
        }
      ],
      "source": [
        "print('first copy your code from colab and convert that to json format and paste here (in source section) or add by adding comma')\n"
      ]
    }
  ]
}
import pandas as pd
import zipfile
import os

# Define the path to the uploaded file
zip_path = "/content/MNIST_CSV.zip"
extract_path = "/mnt/data/mnist_data"

# Extract the ZIP file
with zipfile.ZipFile(zip_path, 'r') as zip_ref:
    zip_ref.extractall(extract_path)

# List the extracted files
extracted_files = os.listdir(extract_path)
print("Extracted Files:", extracted_files)

# Load the CSV files (assuming standard MNIST naming conventions)
train_file = os.path.join(extract_path, "mnist_train.csv")  # Update filename if needed
test_file = os.path.join(extract_path, "mnist_test.csv")  # Update filename if needed

# Read the CSV files
train_data = pd.read_csv(train_file)
test_data = pd.read_csv(test_file)

# Display first few rows of each dataset
print("\nTraining Data Preview:")
print(train_data.head())

print("\nTesting Data Preview:")
print(test_data.head())

# Check dataset shape
print("\nTraining Data Shape:", train_data.shape)
print("Testing Data Shape:", test_data.shape)
import pandas as pd
import numpy as np
from sklearn.model_selection import train_test_split
from sklearn.neighbors import KNeighborsClassifier
from sklearn.metrics import accuracy_score, classification_report

# Ensure dataset is loaded from the previous step
# train_data and test_data should already be defined

# Extract features (X) and labels (y) from training data
X_train = train_data.iloc[:, 1:].values  # Pixel values
y_train = train_data.iloc[:, 0].values   # Labels (0-9)

# Extract features and labels from test data
X_test = test_data.iloc[:, 1:].values  
y_test = test_data.iloc[:, 0].values   

# Normalize pixel values to range 0-1 (improves accuracy)
X_train = X_train / 255.0
X_test = X_test / 255.0

# Define k-NN model (using k=3)
knn_model = KNeighborsClassifier(n_neighbors=3)

# Train the model
knn_model.fit(X_train, y_train)

# Predict on test data
y_pred = knn_model.predict(X_test)

# Evaluate the model
accuracy = accuracy_score(y_test, y_pred)
print(f"\n✅ k-NN Accuracy: {accuracy * 100:.2f}%")

# Display detailed classification report
print("\nClassification Report:")
print(classification_report(y_test, y_pred))
