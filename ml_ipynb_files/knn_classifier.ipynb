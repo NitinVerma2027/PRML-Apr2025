{
  "nbformat": 4,
  "nbformat_minor": 0,
  "metadata": {
    "colab": {
      "provenance": [],
      "authorship_tag": "ABX9TyMhfncc624U38VGVNqUWitw",
      "include_colab_link": true
    },
    "kernelspec": {
      "name": "python3",
      "display_name": "Python 3"
    },
    "language_info": {
      "name": "python"
    }
  },
  "cells": [
    {
      "cell_type": "markdown",
      "metadata": {
        "id": "view-in-github",
        "colab_type": "text"
      },
      "source": [
        "<a href=\"https://colab.research.google.com/github/NitinVerma2027/PRML-Apr2025/blob/main/ml_ipynb_files/knn_classifier.ipynb\" target=\"_parent\"><img src=\"https://colab.research.google.com/assets/colab-badge.svg\" alt=\"Open In Colab\"/></a>"
      ]
    },
    {
      "cell_type": "code",
      "execution_count": 1,
      "metadata": {
        "id": "4xiTqibEfFwN"
      },
      "outputs": [],
      "source": [
        "import numpy as np\n",
        "import gdown\n",
        "import pandas as pd\n",
        "import matplotlib.pyplot as plt\n",
        "from tqdm import tqdm\n",
        "import seaborn as sns\n",
        "from sklearn.preprocessing import label_binarize\n",
        "from sklearn.metrics import roc_curve, auc, accuracy_score\n",
        "import random\n"
      ]
    },
    {
      "cell_type": "code",
      "source": [
        "# Download dataset\n",
        "train_file_id = \"1gj1rEzLDzNBpRswfqZaJxCFs5EwQSA87\"\n",
        "test_file_id = \"1MX9ckuU6rhL3PaVvflrXsZ-0m2bFeWsy\"\n",
        "\n",
        "train_url = f\"https://drive.google.com/uc?id={train_file_id}\"\n",
        "test_url = f\"https://drive.google.com/uc?id={test_file_id}\"\n",
        "\n",
        "train_output = \"train_dataset.csv\"\n",
        "test_output = \"test_dataset.csv\"\n",
        "\n",
        "gdown.download(train_url, train_output, quiet=False)\n",
        "gdown.download(test_url, test_output, quiet=False)\n",
        "\n",
        "# Load Data\n",
        "train_df = pd.read_csv(train_output, header=None)\n",
        "test_df = pd.read_csv(test_output, header=None)\n",
        "\n",
        "# Extract Features & Labels\n",
        "y_train = train_df.iloc[:, 0].values  # Labels\n",
        "X_train = train_df.iloc[:, 1:].values / 255.0  # Normalize Features\n",
        "\n",
        "y_test = test_df.iloc[:, 0].values\n",
        "X_test = test_df.iloc[:, 1:].values / 255.0\n",
        "\n",
        "print(f\"Training Data Shape: {X_train.shape}\")\n",
        "print(f\"Testing Data Shape: {X_test.shape}\")\n",
        "\n",
        "# Display Sample Images (with random selection)\n",
        "num_samples = 5  # Number of samples to display\n",
        "sample_indices = random.sample(range(len(X_train)), num_samples)  # Get random indices\n",
        "\n",
        "fig, axes = plt.subplots(1, num_samples, figsize=(10, 3))\n",
        "for i, ax in enumerate(axes):\n",
        "    index = sample_indices[i]  # Get the random index\n",
        "    ax.imshow(X_train[index].reshape(28, 28), cmap=\"gray\")\n",
        "    ax.set_title(f\"Label: {y_train[index]}\")\n",
        "    ax.axis(\"off\")\n",
        "plt.show()\n"
      ],
      "metadata": {
        "colab": {
          "base_uri": "https://localhost:8080/",
          "height": 383
        },
        "id": "Nexfc8bfidxH",
        "outputId": "65b2ce7d-5890-4c1b-83f4-85c038e95293"
      },
      "execution_count": 3,
      "outputs": [
        {
          "output_type": "stream",
          "name": "stderr",
          "text": [
            "Downloading...\n",
            "From (original): https://drive.google.com/uc?id=1gj1rEzLDzNBpRswfqZaJxCFs5EwQSA87\n",
            "From (redirected): https://drive.google.com/uc?id=1gj1rEzLDzNBpRswfqZaJxCFs5EwQSA87&confirm=t&uuid=a0ea5715-f14b-49ef-9bd5-bd6dabc986ca\n",
            "To: /content/train_dataset.csv\n",
            "100%|██████████| 110M/110M [00:00<00:00, 115MB/s]\n",
            "Downloading...\n",
            "From: https://drive.google.com/uc?id=1MX9ckuU6rhL3PaVvflrXsZ-0m2bFeWsy\n",
            "To: /content/test_dataset.csv\n",
            "100%|██████████| 18.3M/18.3M [00:00<00:00, 75.3MB/s]\n"
          ]
        },
        {
          "output_type": "stream",
          "name": "stdout",
          "text": [
            "Training Data Shape: (60000, 784)\n",
            "Testing Data Shape: (10000, 784)\n"
          ]
        },
        {
          "output_type": "display_data",
          "data": {
            "text/plain": [
              "<Figure size 1000x300 with 5 Axes>"
            ],
            "image/png": "[encoded data removed]"
          },
          "metadata": {}
        }
      ]
    }
  ]
}