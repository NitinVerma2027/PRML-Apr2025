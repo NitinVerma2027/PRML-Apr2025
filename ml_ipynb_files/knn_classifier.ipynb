{
  "nbformat": 4,
  "nbformat_minor": 0,
  "metadata": {
    "colab": {
      "provenance": [],
      "authorship_tag": "ABX9TyMqGbKA5jPEv4eBzFlPdvQk",
      "include_colab_link": true
    },
    "kernelspec": {
      "name": "python3",
      "display_name": "Python 3"
    },
    "language_info": {
      "name": "python"
    }
  },
  "cells": [
    {
      "cell_type": "markdown",
      "metadata": {
        "id": "view-in-github",
        "colab_type": "text"
      },
      "source": [
        "<a href=\"https://colab.research.google.com/github/NitinVerma2027/PRML-Apr2025/blob/main/knn_classifier.ipynb\" target=\"_parent\"><img src=\"https://colab.research.google.com/assets/colab-badge.svg\" alt=\"Open In Colab\"/></a>"
      ]
    },
    {
      "cell_type": "code",
      "execution_count": 1,
      "metadata": {
        "id": "dcx01ejYQsQb"
      },
      "outputs": [],
      "source": [
        "import pandas as pd\n",
        "import zipfile\n",
        "import os"
      ]
    },
    {
      "cell_type": "code",
      "source": [
        "# Define the path to the uploaded file\n",
        "zip_path = \"/content/MNIST_CSV.zip\"\n",
        "extract_path = \"/mnt/data/mnist_data\"\n",
        "\n",
        "# Extract the ZIP file\n",
        "with zipfile.ZipFile(zip_path, 'r') as zip_ref:\n",
        "    zip_ref.extractall(extract_path)\n",
        "\n",
        "# List the extracted files\n",
        "extracted_files = os.listdir(extract_path)\n",
        "print(\"Extracted Files:\", extracted_files)"
      ],
      "metadata": {
        "colab": {
          "base_uri": "https://localhost:8080/"
        },
        "id": "IYx7kxBPi3Jj",
        "outputId": "9e998414-6b51-43a4-efb6-04f868ffed6f"
      },
      "execution_count": 8,
      "outputs": [
        {
          "output_type": "stream",
          "name": "stdout",
          "text": [
            "Extracted Files: ['readme.md', 'generate_mnist_csv.py', 'mnist_train.csv', 'mnist_test.csv']\n"
          ]
        }
      ]
    },
    {
      "cell_type": "code",
      "source": [
        "# Load the CSV files (assuming standard MNIST naming conventions)\n",
        "train_file = os.path.join(extract_path, \"mnist_train.csv\")  # Update filename if needed\n",
        "\n",
        "# Read the CSV files\n",
        "train_data = pd.read_csv(train_file)\n",
        "\n",
        "# Display first few rows of each dataset\n",
        "print(\"\\nTraining Data Preview:\")\n",
        "print(train_data.head())\n",
        "\n",
        "# Check dataset shape\n",
        "print(\"\\nTraining Data Shape:\", train_data.shape)"
      ],
      "metadata": {
        "colab": {
          "base_uri": "https://localhost:8080/"
        },
        "id": "4kFekNV3jTNQ",
        "outputId": "76b3f299-0ff3-43b2-e584-6f5167f5e83d"
      },
      "execution_count": 9,
      "outputs": [
        {
          "output_type": "stream",
          "name": "stdout",
          "text": [
            "\n",
            "Training Data Preview:\n",
            "   5  0  0.1  0.2  0.3  0.4  0.5  0.6  0.7  0.8  ...  0.608  0.609  0.610  \\\n",
            "0  0  0    0    0    0    0    0    0    0    0  ...      0      0      0   \n",
            "1  4  0    0    0    0    0    0    0    0    0  ...      0      0      0   \n",
            "2  1  0    0    0    0    0    0    0    0    0  ...      0      0      0   \n",
            "3  9  0    0    0    0    0    0    0    0    0  ...      0      0      0   \n",
            "4  2  0    0    0    0    0    0    0    0    0  ...      0      0      0   \n",
            "\n",
            "   0.611  0.612  0.613  0.614  0.615  0.616  0.617  \n",
            "0      0      0      0      0      0      0      0  \n",
            "1      0      0      0      0      0      0      0  \n",
            "2      0      0      0      0      0      0      0  \n",
            "3      0      0      0      0      0      0      0  \n",
            "4      0      0      0      0      0      0      0  \n",
            "\n",
            "[5 rows x 785 columns]\n",
            "\n",
            "Training Data Shape: (59999, 785)\n"
          ]
        }
      ]
    },
    {
      "cell_type": "code",
      "source": [
        "# Load the CSV files (assuming standard MNIST naming conventions)\n",
        "test_file = os.path.join(extract_path, \"mnist_test.csv\")  # Update filename if needed\n",
        "\n",
        "# Read the CSV files\n",
        "test_data = pd.read_csv(test_file)\n",
        "\n",
        "# Display first few rows of each dataset\n",
        "print(\"\\nTesting Data Preview:\")\n",
        "print(test_data.head())\n",
        "\n",
        "# Check dataset shape\n",
        "print(\"Testing Data Shape:\", test_data.shape)"
      ],
      "metadata": {
        "colab": {
          "base_uri": "https://localhost:8080/"
        },
        "id": "w1vibmAlnc-n",
        "outputId": "96e4eb4f-153c-46cb-f552-1af50058b8c2"
      },
      "execution_count": 11,
      "outputs": [
        {
          "output_type": "stream",
          "name": "stdout",
          "text": [
            "\n",
            "Testing Data Preview:\n",
            "   7  0  0.1  0.2  0.3  0.4  0.5  0.6  0.7  0.8  ...  0.658  0.659  0.660  \\\n",
            "0  2  0    0    0    0    0    0    0    0    0  ...      0      0      0   \n",
            "1  1  0    0    0    0    0    0    0    0    0  ...      0      0      0   \n",
            "2  0  0    0    0    0    0    0    0    0    0  ...      0      0      0   \n",
            "3  4  0    0    0    0    0    0    0    0    0  ...      0      0      0   \n",
            "4  1  0    0    0    0    0    0    0    0    0  ...      0      0      0   \n",
            "\n",
            "   0.661  0.662  0.663  0.664  0.665  0.666  0.667  \n",
            "0      0      0      0      0      0      0      0  \n",
            "1      0      0      0      0      0      0      0  \n",
            "2      0      0      0      0      0      0      0  \n",
            "3      0      0      0      0      0      0      0  \n",
            "4      0      0      0      0      0      0      0  \n",
            "\n",
            "[5 rows x 785 columns]\n",
            "Testing Data Shape: (9999, 785)\n"
          ]
        }
      ]
    },
    {
      "cell_type": "code",
      "source": [
        "import numpy as np\n",
        "import pandas as pd\n",
        "from collections import Counter\n"
      ],
      "metadata": {
        "id": "70R5ufwYqO8c"
      },
      "execution_count": 12,
      "outputs": []
    },
    {
      "cell_type": "code",
      "source": [
        "def euclidean_distance(a, b):\n",
        "    return np.sqrt(np.sum((a - b) ** 2))\n"
      ],
      "metadata": {
        "id": "2N6OGzmtspeE"
      },
      "execution_count": 13,
      "outputs": []
    },
    {
      "cell_type": "code",
      "source": [
        "def knn_predict(X_train, y_train, X_test, k=3):\n",
        "    y_pred = []\n",
        "    for test_sample in X_test:\n",
        "        distances = [euclidean_distance(test_sample, train_sample) for train_sample in X_train]\n",
        "        k_indices = np.argsort(distances)[:k]\n",
        "        k_nearest_labels = [y_train[i] for i in k_indices]\n",
        "        most_common = Counter(k_nearest_labels).most_common(1)[0][0]\n",
        "        y_pred.append(most_common)\n",
        "    return np.array(y_pred)"
      ],
      "metadata": {
        "id": "yR_7SNchvhvz"
      },
      "execution_count": 14,
      "outputs": []
    },
    {
      "cell_type": "code",
      "source": [
        "# Load MNIST CSV files, use the extract path used previously\n",
        "extract_path = \"/mnt/data/mnist_data\" # use the same extract path as before\n",
        "train_data = pd.read_csv(os.path.join(extract_path, \"mnist_train.csv\"))  # Provide the full path\n",
        "test_data = pd.read_csv(os.path.join(extract_path, \"mnist_test.csv\"))  # Provide the full path\n",
        "\n",
        "\n",
        "# Extract features and labels\n",
        "X_train = train_data.iloc[:, 1:].values / 255.0  # Normalize pixel values\n",
        "y_train = train_data.iloc[:, 0].values\n",
        "X_test = test_data.iloc[:, 1:].values / 255.0\n",
        "y_test = test_data.iloc[:, 0].values\n",
        "\n",
        "# Perform k-NN classification\n",
        "y_pred = knn_predict(X_train, y_train, X_test, k=3)\n",
        "\n",
        "# Calculate accuracy\n",
        "accuracy = np.mean(y_pred == y_test)\n",
        "print(f\"\\n✅ k-NN Accuracy (Manual): {accuracy * 100:.2f}%\")\n"
      ],
      "metadata": {
        "colab": {
          "base_uri": "https://localhost:8080/"
        },
        "id": "B-M2-sFnwced",
        "outputId": "5a77e1c8-0932-424f-9d03-a9af260c3d5d"
      },
      "execution_count": 15,
      "outputs": [
        {
          "output_type": "stream",
          "name": "stdout",
          "text": [
            "\n",
            "✅ k-NN Accuracy (Manual): 97.17%\n"
          ]
        }
      ]
    },
    {
      "cell_type": "code",
      "source": [
        "# Generate classification report\n",
        "def classification_report_manual(y_true, y_pred):\n",
        "    unique_labels = np.unique(y_true)\n",
        "    report = \"\"\n",
        "    for label in unique_labels:\n",
        "        tp = np.sum((y_true == label) & (y_pred == label))\n",
        "        fp = np.sum((y_true != label) & (y_pred == label))\n",
        "        fn = np.sum((y_true == label) & (y_pred != label))\n",
        "        tn = np.sum((y_true != label) & (y_pred != label))\n",
        "        precision = tp / (tp + fp) if (tp + fp) > 0 else 0\n",
        "        recall = tp / (tp + fn) if (tp + fn) > 0 else 0\n",
        "        f1 = 2 * (precision * recall) / (precision + recall) if (precision + recall) > 0 else 0\n",
        "        report += f\"Class {label}: Precision: {precision:.2f}, Recall: {recall:.2f}, F1-score: {f1:.2f}\\n\"\n",
        "    return report\n",
        "\n",
        "print(\"\\nClassification Report:\")\n",
        "print(classification_report_manual(y_test, y_pred))"
      ],
      "metadata": {
        "colab": {
          "base_uri": "https://localhost:8080/"
        },
        "id": "PgJIxxpZSe4R",
        "outputId": "e6c98dd0-0b1e-47e7-f66f-5b27d9f3d692"
      },
      "execution_count": 16,
      "outputs": [
        {
          "output_type": "stream",
          "name": "stdout",
          "text": [
            "\n",
            "Classification Report:\n",
            "Class 0: Precision: 0.97, Recall: 0.99, F1-score: 0.98\n",
            "Class 1: Precision: 0.97, Recall: 1.00, F1-score: 0.98\n",
            "Class 2: Precision: 0.98, Recall: 0.97, F1-score: 0.98\n",
            "Class 3: Precision: 0.97, Recall: 0.97, F1-score: 0.97\n",
            "Class 4: Precision: 0.98, Recall: 0.97, F1-score: 0.97\n",
            "Class 5: Precision: 0.96, Recall: 0.96, F1-score: 0.96\n",
            "Class 6: Precision: 0.98, Recall: 0.99, F1-score: 0.98\n",
            "Class 7: Precision: 0.96, Recall: 0.97, F1-score: 0.96\n",
            "Class 8: Precision: 0.99, Recall: 0.95, F1-score: 0.97\n",
            "Class 9: Precision: 0.96, Recall: 0.96, F1-score: 0.96\n",
            "\n"
          ]
        }
      ]
    }
  ]
}
