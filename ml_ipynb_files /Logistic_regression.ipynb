{
  "nbformat": 4,
  "nbformat_minor": 0,
  "metadata": {
    "colab": {
      "provenance": [],
      "include_colab_link": true
    },
    "kernelspec": {
      "name": "python3",
      "display_name": "Python 3"
    },
    "language_info": {
      "name": "python"
    }
  },
  "cells": [
    {
      "cell_type": "markdown",
      "metadata": {
        "id": "view-in-github",
        "colab_type": "text"
      },
      "source": [
        "<a href=\"https://colab.research.google.com/github/NitinVerma2027/PRML-Apr2025/blob/main/ml_ipynb_files%20/Logistic_regression.ipynb\" target=\"_parent\"><img src=\"https://colab.research.google.com/assets/colab-badge.svg\" alt=\"Open In Colab\"/></a>"
      ]
    },
    {
      "cell_type": "markdown",
      "source": [
        "\n",
        "# **Logistic Regression for MNIST Digit Classification**  \n",
        "\n",
        "## **How It Works:**  \n",
        "Logistic regression is used for classification tasks by predicting probabilities for each class. It learns patterns in the input data and assigns the most likely label to each digit.  \n",
        "$$$$\n",
        "\n",
        "For **multi-class classification**, there are two common approaches:  \n",
        "1. **One-vs-All (OvA)** → Trains separate classifiers for each class.  \n",
        "2. **Softmax Regression** → Uses a single model to classify all classes at once.  \n",
        "\n",
        "$$$$\n",
        "### **Why Softmax?**  \n",
        "Softmax regression is more efficient because it directly assigns probabilities to multiple classes in a single step, making it better suited for problems like MNIST digit classification.  \n",
        "\n",
        "\n",
        "#### Keywords for Dimensions:\n",
        "m => no. of samples\n",
        "\n",
        "n => no. of features\n",
        "\n",
        "k => no. of unique classes"
      ],
      "metadata": {
        "id": "YxdIZ9hm3A3k"
      }
    },
    {
      "cell_type": "markdown",
      "source": [
        "# Importing library and files"
      ],
      "metadata": {
        "id": "OnCwSbzPmBDp"
      }
    },
    {
      "cell_type": "code",
      "source": [
        "import numpy as np\n",
        "import gdown\n",
        "import pandas as pd\n",
        "import matplotlib.pyplot as plt\n",
        "from sklearn.metrics import confusion_matrix, roc_curve, auc\n",
        "import seaborn as sns\n",
        "from sklearn.model_selection import train_test_split\n",
        "\n",
        "# file import from derive\n",
        "file_id = \"1gj1rEzLDzNBpRswfqZaJxCFs5EwQSA87\"\n",
        "url = f\"https://drive.google.com/uc?id={file_id}\"\n",
        "\n",
        "# downloading file\n",
        "output = \"dataset.csv\"\n",
        "gdown.download(url, output, quiet=False)\n",
        "\n",
        "# dataframe formation\n",
        "df = pd.read_csv(output, header=None)\n",
        "\n",
        "print(df.head())\n",
        "\n",
        "# making y = label(1st column) and x = row (other column).\n",
        "y = df.iloc[:, 0].values  # Labels\n",
        "X = df.iloc[:, 1:].values  # Features (pixel values)\n",
        "\n",
        "# normalize pixel values (0-255 → 0-1)\n",
        "X = X / 255.0\n",
        "\n",
        "# dataset size\n",
        "total_samples = X.shape[0]\n",
        "print(f\"no. of data sample : {total_samples}\")\n",
        "\n",
        "# logic for spliting\n",
        "train_ratio = 0.8  # train = 80% and test = 20%\n",
        "train_size = int(total_samples * train_ratio)\n",
        "test_size = total_samples - train_size\n",
        "\n",
        "# spliting by sklearn and also i make sure that split is balance by using 'startify = y'\n",
        "X_train, X_test, y_train, y_test = train_test_split(\n",
        "    X, y, train_size=train_size, test_size=test_size, stratify=y, random_state=42\n",
        ")\n",
        "\n",
        "# shape of train and test\n",
        "print(f\"Training data shape: {X_train.shape}\")\n",
        "print(f\"Test data shape: {X_test.shape}\")\n",
        "\n",
        "# displaying some images.|\n",
        "fig, axes = plt.subplots(1, 5, figsize=(10, 3))\n",
        "for i, ax in enumerate(axes):\n",
        "    ax.imshow(X_train[i].reshape(28, 28), cmap=\"gray\")\n",
        "    ax.set_title(f\"Label: {y_train[i]}\")\n",
        "    ax.axis(\"off\")\n",
        "\n",
        "plt.show()\n"
      ],
      "metadata": {
        "colab": {
          "base_uri": "https://localhost:8080/",
          "height": 591
        },
        "id": "iPunruYfe91o",
        "outputId": "a72b5175-4689-4844-c951-7b40362402ef"
      },
      "execution_count": null,
      "outputs": [
        {
          "output_type": "stream",
          "name": "stderr",
          "text": [
            "Downloading...\n",
            "From (original): https://drive.google.com/uc?id=1gj1rEzLDzNBpRswfqZaJxCFs5EwQSA87\n",
            "From (redirected): https://drive.google.com/uc?id=1gj1rEzLDzNBpRswfqZaJxCFs5EwQSA87&confirm=t&uuid=6c165348-f0db-44a0-bf68-20941e0a87cb\n",
            "To: /content/dataset.csv\n",
            "100%|██████████| 110M/110M [00:01<00:00, 98.2MB/s] \n"
          ]
        },
        {
          "output_type": "stream",
          "name": "stdout",
          "text": [
            "   0    1    2    3    4    5    6    7    8    9    ...  775  776  777  778  \\\n",
            "0    5    0    0    0    0    0    0    0    0    0  ...    0    0    0    0   \n",
            "1    0    0    0    0    0    0    0    0    0    0  ...    0    0    0    0   \n",
            "2    4    0    0    0    0    0    0    0    0    0  ...    0    0    0    0   \n",
            "3    1    0    0    0    0    0    0    0    0    0  ...    0    0    0    0   \n",
            "4    9    0    0    0    0    0    0    0    0    0  ...    0    0    0    0   \n",
            "\n",
            "   779  780  781  782  783  784  \n",
            "0    0    0    0    0    0    0  \n",
            "1    0    0    0    0    0    0  \n",
            "2    0    0    0    0    0    0  \n",
            "3    0    0    0    0    0    0  \n",
            "4    0    0    0    0    0    0  \n",
            "\n",
            "[5 rows x 785 columns]\n",
            "no. of data sample : 60000\n",
            "Training data shape: (48000, 784)\n",
            "Test data shape: (12000, 784)\n"
          ]
        },
        {
          "output_type": "display_data",
          "data": {
            "text/plain": [
              "<Figure size 1000x300 with 5 Axes>"
            ],
            "image/png": "[encoded data removed]"
          },
          "metadata": {}
        }
      ]
    },
    {
      "cell_type": "markdown",
      "source": [
        "## One Hot Encoding\n",
        "\n",
        "\n",
        "> This function converts class labels into a one-hot encoded matrix. It first creates a matrix of zeros with m rows and num_classes columns, then it places a 1 in the column corresponding to each class label.\n",
        "\n"
      ],
      "metadata": {
        "id": "qBCE-ynEmFPF"
      }
    },
    {
      "cell_type": "code",
      "source": [
        "# One-hot encode function dim(m,k)\n",
        "\n",
        "def one_hot_encode(Y, num_classes):\n",
        "    m = Y.shape[0]\n",
        "    one_hot_Y = np.zeros((m, num_classes))\n",
        "    one_hot_Y[np.arange(m), Y] = 1\n",
        "    return one_hot_Y"
      ],
      "metadata": {
        "id": "ta1jb0xpfjqE"
      },
      "execution_count": null,
      "outputs": []
    },
    {
      "cell_type": "markdown",
      "source": [
        "## Adding baise term:\n",
        "\n",
        "\n",
        "> for example:\n",
        "dim(X) = (m,n) but dim(X_trian_bais) = (m,n+1)\n"
      ],
      "metadata": {
        "id": "33EPap67zMaX"
      }
    },
    {
      "cell_type": "code",
      "source": [
        "# adding bais in matrix\n",
        "def add_bias_term(X):\n",
        "    m = X.shape[0]\n",
        "\n",
        "    # adding column of 1's.\n",
        "    X_bias = np.c_[np.ones((m, 1)), X]\n",
        "\n",
        "    return X_bias\n"
      ],
      "metadata": {
        "id": "m7LANmnkyiMf"
      },
      "execution_count": null,
      "outputs": []
    },
    {
      "cell_type": "markdown",
      "source": [
        "## Theta initialization:\n",
        " Dim (θ) = (n+1,k)"
      ],
      "metadata": {
        "id": "wYigSYXi0XZ7"
      }
    },
    {
      "cell_type": "code",
      "source": [
        "# initializing theta with dim => (n+1,k) with random small values\n",
        "\n",
        "def initialize_weights(n_features, n_classes):\n",
        "    np.random.seed(42)  # For reproducibility\n",
        "\n",
        "    Theta = np.random.randn(n_features + 1, n_classes) * 0.01\n",
        "    return Theta"
      ],
      "metadata": {
        "id": "wS9VV1csyd6Q"
      },
      "execution_count": null,
      "outputs": []
    },
    {
      "cell_type": "markdown",
      "source": [
        "## **Softmax Function**  \n",
        "this function is use to classify multiple class at a time .\n",
        "\n",
        "(i have in place of sigmoid function which is used for binary classification.)\n",
        "\n",
        "### **Formula:**  \n",
        "$$\n",
        "\\sigma(Z_i) = \\frac{e^{Z_i}}{\\sum_{j} e^{Z_j}}\n",
        "$$  \n",
        "where:  \n",
        "- $Z$ is the input (logits).  \n",
        "- $e^{Z_i}$ represents the exponentiation of each element.  \n",
        "$$$$\n",
        "- this is normalize too. and σ(Zi)  is prediction probability.\n",
        "\n",
        "### For Numerical Stability:\n",
        "To avoid large exponent values, we subtract the maximum value in $Z$ before putting its value in exponential.  \n",
        "$$\n",
        "\\text{e}^{zi} = e^{Z - \\max(Z)}\n",
        "$$  \n",
        "\n"
      ],
      "metadata": {
        "id": "bD95RPRJnVNf"
      }
    },
    {
      "cell_type": "code",
      "source": [
        "# softmax function\n",
        "\n",
        "def softmax(Z):\n",
        "    exp_Z = np.exp(Z - np.max(Z, axis=1, keepdims=True))\n",
        "    return exp_Z / np.sum(exp_Z, axis=1, keepdims=True)"
      ],
      "metadata": {
        "id": "GoaZkzo3fAvI"
      },
      "execution_count": null,
      "outputs": []
    },
    {
      "cell_type": "code",
      "source": [
        "#inititalizing theta (n+1,k)\n",
        "\n",
        "def initialize_weights(n_features, n_classes):\n",
        "    np.random.seed(42) # for same result\n",
        "    Theta = np.random.randn(n_features + 1, n_classes) * 0.01\n",
        "    return Theta"
      ],
      "metadata": {
        "id": "ZEhEI2j7fNsl"
      },
      "execution_count": null,
      "outputs": []
    },
    {
      "cell_type": "markdown",
      "source": [
        "## Calculating prediction of training data:\n",
        "dimension => (m,k)"
      ],
      "metadata": {
        "id": "xy6vPmtjtTes"
      }
    },
    {
      "cell_type": "code",
      "source": [
        "def predict_probabilities(X, Theta):\n",
        "\n",
        "    Z_theta = np.dot(X, Theta)\n",
        "\n",
        "    P = softmax(Z_theta)  # Shape (m, k)\n",
        "\n",
        "    return P"
      ],
      "metadata": {
        "id": "dkWL0952fQ8Q"
      },
      "execution_count": null,
      "outputs": []
    },
    {
      "cell_type": "markdown",
      "source": [
        "## **Cross-Entropy Cost Function**    \n",
        "\n",
        "#### **Formula:**  \n",
        "$$\n",
        "J = -\\frac{1}{m} \\sum_{i=1}^{m} \\sum_{j=1}^{n} Y_{ij} \\log P_{ij}\n",
        "$$  \n",
        "where:  \n",
        "- $m$ is the number of samples.  \n",
        "- $Y_{ij}$ is the one-hot encoded true label.  \n",
        "- $P_{ij}$ is the predicted probability for class $j$.  \n",
        "\n",
        "#### **Numerical Stability:**  \n",
        "to avoid invalid output problem , range of P = (ϵ,1-ϵ)"
      ],
      "metadata": {
        "id": "BUTXIeUHuWIN"
      }
    },
    {
      "cell_type": "code",
      "source": [
        "#cost function\n",
        "\n",
        "def compute_cost(Y, P):\n",
        "    m = Y.shape[0]\n",
        "    epsilon = 1e-9\n",
        "\n",
        "    P = np.clip(P, epsilon, 1 - epsilon)  # restricated range of P\n",
        "\n",
        "    J = - (1 / m) * np.sum(np.sum(Y * np.log(P), axis=1))\n",
        "\n",
        "    return J"
      ],
      "metadata": {
        "id": "1PXp5AdqfZos"
      },
      "execution_count": null,
      "outputs": []
    },
    {
      "cell_type": "markdown",
      "source": [
        "## **Gradient Computation for Softmax Regression**  \n",
        "\n",
        "### **Formula:**  \n",
        "For a dataset with $m$ samples and $n$ features, the gradient is computed as:  \n",
        "$$\n",
        "\\nabla_{\\Theta} J = \\frac{1}{m} X^T (P - Y)\n",
        "$$  \n",
        "where:  \n",
        "- $X$ is the input data of shape $(m, n)$.  \n",
        "- $Y$ is the one-hot encoded true labels of shape $(m, k)$.  \n",
        "- $P$ is the predicted probability matrix of shape $(m, k)$.  \n",
        "- $\\Theta$ represents the model parameters (weights).  "
      ],
      "metadata": {
        "id": "3GuYP3aBvaHa"
      }
    },
    {
      "cell_type": "code",
      "source": [
        "#compute gradient\n",
        "\n",
        "def compute_gradient(X, Y, P):\n",
        "    m = X.shape[0]  # Number of samples\n",
        "\n",
        "    dTheta = (1 / m) * np.dot(X.T, (P - Y))  # Shape (n+1, k)\n",
        "\n",
        "    return dTheta\n"
      ],
      "metadata": {
        "id": "8kIoNZQlf0z1"
      },
      "execution_count": null,
      "outputs": []
    },
    {
      "cell_type": "markdown",
      "source": [
        "## **Gradient Descent for Softmax Regression**  \n",
        "\n",
        "#### **Update Rule:**  \n",
        "Gradient descent updates the parameters **Θ** using the following formula:  \n",
        "$$\n",
        "\\Theta := \\Theta - \\alpha \\nabla_{\\Theta} J\n",
        "$$  \n",
        "where:  \n",
        "- $\\alpha$ is the **learning rate**.  \n",
        "- $\\nabla_{\\Theta} J$ is the **gradient of the cost function**.  \n",
        "- $\\Theta$ represents the model parameters (weights).   \n"
      ],
      "metadata": {
        "id": "jjCA5ncBwqrj"
      }
    },
    {
      "cell_type": "code",
      "source": [
        "from tqdm import tqdm\n",
        "\n",
        "def gradient_descent(X, Y, theta, alpha, epochs):\n",
        "    cost_history = []\n",
        "    m = X.shape[0]\n",
        "\n",
        "    for i in tqdm(range(epochs), desc=\"training Progress\", ncols=100, unit=\"epoch\"):\n",
        "        P = predict_probabilities(X, theta)  # Compute predictions\n",
        "        cost = compute_cost(Y, P)  # Compute cost\n",
        "        cost_history.append(cost)\n",
        "\n",
        "        dTheta = compute_gradient(X, Y, P)  # Compute gradient\n",
        "\n",
        "        theta -= alpha * dTheta  # Update weights\n",
        "\n",
        "        if i % 10 == 0:\n",
        "            gradient_norm = np.linalg.norm(dTheta)\n",
        "            print(f\"Cost = {cost:.4f}, Gradient Norm = {gradient_norm:.4f}\")\n",
        "\n",
        "    return theta, cost_history\n"
      ],
      "metadata": {
        "id": "Z6EvNXJWfdi1"
      },
      "execution_count": null,
      "outputs": []
    },
    {
      "cell_type": "code",
      "source": [
        "alpha = 0.1  # learning rate\n",
        "epochs = 1000  # number of iterations\n",
        "\n",
        "num_classes = 10\n",
        "n_features = X_train.shape[1]\n",
        "\n",
        "# initialize weights\n",
        "theta = initialize_weights(n_features, num_classes)\n",
        "\n",
        "#baising added\n",
        "X_train_bias = add_bias_term(X_train)\n",
        "\n",
        "# One-hot encode Y_train\n",
        "Y_train_one_hot = one_hot_encode(y_train, num_classes)\n",
        "\n",
        "# model training\n",
        "Theta_opt, cost_history = gradient_descent(X_train_bias, Y_train_one_hot, theta, alpha, epochs)\n",
        "\n",
        "# Plot cost history\n",
        "plt.plot(cost_history)\n",
        "plt.xlabel(\"Iterations\")\n",
        "plt.ylabel(\"Cost\")\n",
        "plt.title(\"Cost Function Convergence\")\n",
        "plt.show()\n"
      ],
      "metadata": {
        "colab": {
          "base_uri": "https://localhost:8080/",
          "height": 1000
        },
        "id": "siPsUmp7f9tL",
        "outputId": "be7bc19a-4458-4583-8498-15f9877db6bf"
      },
      "execution_count": null,
      "outputs": [
        {
          "output_type": "stream",
          "name": "stderr",
          "text": [
            "training Progress:   0%|                                        | 1/1000 [00:00<04:04,  4.08epoch/s]"
          ]
        },
        {
          "output_type": "stream",
          "name": "stdout",
          "text": [
            "Cost = 2.3239, Gradient Norm = 1.0463\n"
          ]
        },
        {
          "output_type": "stream",
          "name": "stderr",
          "text": [
            "training Progress:   1%|▍                                      | 11/1000 [00:03<07:02,  2.34epoch/s]"
          ]
        },
        {
          "output_type": "stream",
          "name": "stdout",
          "text": [
            "Cost = 1.5593, Gradient Norm = 0.7080\n"
          ]
        },
        {
          "output_type": "stream",
          "name": "stderr",
          "text": [
            "training Progress:   2%|▊                                      | 21/1000 [00:07<04:40,  3.49epoch/s]"
          ]
        },
        {
          "output_type": "stream",
          "name": "stdout",
          "text": [
            "Cost = 1.1941, Gradient Norm = 0.5027\n"
          ]
        },
        {
          "output_type": "stream",
          "name": "stderr",
          "text": [
            "training Progress:   3%|█▏                                     | 31/1000 [00:09<04:16,  3.78epoch/s]"
          ]
        },
        {
          "output_type": "stream",
          "name": "stdout",
          "text": [
            "Cost = 0.9988, Gradient Norm = 0.3827\n"
          ]
        },
        {
          "output_type": "stream",
          "name": "stderr",
          "text": [
            "training Progress:   4%|█▌                                     | 41/1000 [00:12<04:03,  3.94epoch/s]"
          ]
        },
        {
          "output_type": "stream",
          "name": "stdout",
          "text": [
            "Cost = 0.8795, Gradient Norm = 0.3083\n"
          ]
        },
        {
          "output_type": "stream",
          "name": "stderr",
          "text": [
            "training Progress:   5%|█▉                                     | 51/1000 [00:14<04:03,  3.89epoch/s]"
          ]
        },
        {
          "output_type": "stream",
          "name": "stdout",
          "text": [
            "Cost = 0.7991, Gradient Norm = 0.2585\n"
          ]
        },
        {
          "output_type": "stream",
          "name": "stderr",
          "text": [
            "training Progress:   6%|██▍                                    | 61/1000 [00:18<06:41,  2.34epoch/s]"
          ]
        },
        {
          "output_type": "stream",
          "name": "stdout",
          "text": [
            "Cost = 0.7410, Gradient Norm = 0.2232\n"
          ]
        },
        {
          "output_type": "stream",
          "name": "stderr",
          "text": [
            "training Progress:   7%|██▊                                    | 71/1000 [00:21<04:31,  3.42epoch/s]"
          ]
        },
        {
          "output_type": "stream",
          "name": "stdout",
          "text": [
            "Cost = 0.6969, Gradient Norm = 0.1968\n"
          ]
        },
        {
          "output_type": "stream",
          "name": "stderr",
          "text": [
            "training Progress:   8%|███▏                                   | 81/1000 [00:24<04:24,  3.47epoch/s]"
          ]
        },
        {
          "output_type": "stream",
          "name": "stdout",
          "text": [
            "Cost = 0.6620, Gradient Norm = 0.1763\n"
          ]
        },
        {
          "output_type": "stream",
          "name": "stderr",
          "text": [
            "training Progress:   9%|███▌                                   | 91/1000 [00:27<04:31,  3.35epoch/s]"
          ]
        },
        {
          "output_type": "stream",
          "name": "stdout",
          "text": [
            "Cost = 0.6337, Gradient Norm = 0.1600\n"
          ]
        },
        {
          "output_type": "stream",
          "name": "stderr",
          "text": [
            "training Progress:  10%|███▊                                  | 101/1000 [00:31<06:38,  2.26epoch/s]"
          ]
        },
        {
          "output_type": "stream",
          "name": "stdout",
          "text": [
            "Cost = 0.6101, Gradient Norm = 0.1466\n"
          ]
        },
        {
          "output_type": "stream",
          "name": "stderr",
          "text": [
            "training Progress:  11%|████▏                                 | 111/1000 [00:35<04:08,  3.57epoch/s]"
          ]
        },
        {
          "output_type": "stream",
          "name": "stdout",
          "text": [
            "Cost = 0.5902, Gradient Norm = 0.1355\n"
          ]
        },
        {
          "output_type": "stream",
          "name": "stderr",
          "text": [
            "training Progress:  12%|████▌                                 | 121/1000 [00:37<03:53,  3.76epoch/s]"
          ]
        },
        {
          "output_type": "stream",
          "name": "stdout",
          "text": [
            "Cost = 0.5730, Gradient Norm = 0.1261\n"
          ]
        },
        {
          "output_type": "stream",
          "name": "stderr",
          "text": [
            "training Progress:  13%|████▉                                 | 131/1000 [00:40<03:57,  3.66epoch/s]"
          ]
        },
        {
          "output_type": "stream",
          "name": "stdout",
          "text": [
            "Cost = 0.5581, Gradient Norm = 0.1180\n"
          ]
        },
        {
          "output_type": "stream",
          "name": "stderr",
          "text": [
            "training Progress:  14%|█████▎                                | 141/1000 [00:43<03:47,  3.78epoch/s]"
          ]
        },
        {
          "output_type": "stream",
          "name": "stdout",
          "text": [
            "Cost = 0.5450, Gradient Norm = 0.1110\n"
          ]
        },
        {
          "output_type": "stream",
          "name": "stderr",
          "text": [
            "training Progress:  15%|█████▋                                | 151/1000 [00:47<06:41,  2.11epoch/s]"
          ]
        },
        {
          "output_type": "stream",
          "name": "stdout",
          "text": [
            "Cost = 0.5333, Gradient Norm = 0.1049\n"
          ]
        },
        {
          "output_type": "stream",
          "name": "stderr",
          "text": [
            "training Progress:  16%|██████                                | 161/1000 [00:50<03:49,  3.65epoch/s]"
          ]
        },
        {
          "output_type": "stream",
          "name": "stdout",
          "text": [
            "Cost = 0.5228, Gradient Norm = 0.0995\n"
          ]
        },
        {
          "output_type": "stream",
          "name": "stderr",
          "text": [
            "training Progress:  17%|██████▍                               | 171/1000 [00:53<03:41,  3.74epoch/s]"
          ]
        },
        {
          "output_type": "stream",
          "name": "stdout",
          "text": [
            "Cost = 0.5134, Gradient Norm = 0.0946\n"
          ]
        },
        {
          "output_type": "stream",
          "name": "stderr",
          "text": [
            "training Progress:  18%|██████▉                               | 181/1000 [00:55<03:52,  3.52epoch/s]"
          ]
        },
        {
          "output_type": "stream",
          "name": "stdout",
          "text": [
            "Cost = 0.5048, Gradient Norm = 0.0903\n"
          ]
        },
        {
          "output_type": "stream",
          "name": "stderr",
          "text": [
            "training Progress:  19%|███████▎                              | 191/1000 [00:58<04:55,  2.74epoch/s]"
          ]
        },
        {
          "output_type": "stream",
          "name": "stdout",
          "text": [
            "Cost = 0.4970, Gradient Norm = 0.0864\n"
          ]
        },
        {
          "output_type": "stream",
          "name": "stderr",
          "text": [
            "training Progress:  20%|███████▋                              | 201/1000 [01:02<04:18,  3.09epoch/s]"
          ]
        },
        {
          "output_type": "stream",
          "name": "stdout",
          "text": [
            "Cost = 0.4898, Gradient Norm = 0.0829\n"
          ]
        },
        {
          "output_type": "stream",
          "name": "stderr",
          "text": [
            "training Progress:  21%|████████                              | 211/1000 [01:05<03:27,  3.81epoch/s]"
          ]
        },
        {
          "output_type": "stream",
          "name": "stdout",
          "text": [
            "Cost = 0.4832, Gradient Norm = 0.0797\n"
          ]
        },
        {
          "output_type": "stream",
          "name": "stderr",
          "text": [
            "training Progress:  22%|████████▍                             | 221/1000 [01:07<03:14,  4.01epoch/s]"
          ]
        },
        {
          "output_type": "stream",
          "name": "stdout",
          "text": [
            "Cost = 0.4771, Gradient Norm = 0.0767\n"
          ]
        },
        {
          "output_type": "stream",
          "name": "stderr",
          "text": [
            "training Progress:  23%|████████▊                             | 231/1000 [01:10<03:17,  3.89epoch/s]"
          ]
        },
        {
          "output_type": "stream",
          "name": "stdout",
          "text": [
            "Cost = 0.4714, Gradient Norm = 0.0740\n"
          ]
        },
        {
          "output_type": "stream",
          "name": "stderr",
          "text": [
            "training Progress:  24%|█████████▏                            | 241/1000 [01:13<05:13,  2.42epoch/s]"
          ]
        },
        {
          "output_type": "stream",
          "name": "stdout",
          "text": [
            "Cost = 0.4661, Gradient Norm = 0.0715\n"
          ]
        },
        {
          "output_type": "stream",
          "name": "stderr",
          "text": [
            "training Progress:  25%|█████████▌                            | 251/1000 [01:17<03:30,  3.56epoch/s]"
          ]
        },
        {
          "output_type": "stream",
          "name": "stdout",
          "text": [
            "Cost = 0.4611, Gradient Norm = 0.0692\n"
          ]
        },
        {
          "output_type": "stream",
          "name": "stderr",
          "text": [
            "training Progress:  26%|█████████▉                            | 261/1000 [01:19<03:06,  3.96epoch/s]"
          ]
        },
        {
          "output_type": "stream",
          "name": "stdout",
          "text": [
            "Cost = 0.4565, Gradient Norm = 0.0670\n"
          ]
        },
        {
          "output_type": "stream",
          "name": "stderr",
          "text": [
            "training Progress:  27%|██████████▎                           | 271/1000 [01:22<03:02,  4.00epoch/s]"
          ]
        },
        {
          "output_type": "stream",
          "name": "stdout",
          "text": [
            "Cost = 0.4521, Gradient Norm = 0.0650\n"
          ]
        },
        {
          "output_type": "stream",
          "name": "stderr",
          "text": [
            "training Progress:  28%|██████████▋                           | 281/1000 [01:24<03:02,  3.93epoch/s]"
          ]
        },
        {
          "output_type": "stream",
          "name": "stdout",
          "text": [
            "Cost = 0.4480, Gradient Norm = 0.0632\n"
          ]
        },
        {
          "output_type": "stream",
          "name": "stderr",
          "text": [
            "training Progress:  29%|███████████                           | 291/1000 [01:28<04:50,  2.44epoch/s]"
          ]
        },
        {
          "output_type": "stream",
          "name": "stdout",
          "text": [
            "Cost = 0.4441, Gradient Norm = 0.0614\n"
          ]
        },
        {
          "output_type": "stream",
          "name": "stderr",
          "text": [
            "training Progress:  30%|███████████▍                          | 301/1000 [01:31<03:19,  3.50epoch/s]"
          ]
        },
        {
          "output_type": "stream",
          "name": "stdout",
          "text": [
            "Cost = 0.4405, Gradient Norm = 0.0598\n"
          ]
        },
        {
          "output_type": "stream",
          "name": "stderr",
          "text": [
            "training Progress:  31%|███████████▊                          | 311/1000 [01:34<03:32,  3.25epoch/s]"
          ]
        },
        {
          "output_type": "stream",
          "name": "stdout",
          "text": [
            "Cost = 0.4370, Gradient Norm = 0.0582\n"
          ]
        },
        {
          "output_type": "stream",
          "name": "stderr",
          "text": [
            "training Progress:  32%|████████████▏                         | 321/1000 [01:37<02:58,  3.80epoch/s]"
          ]
        },
        {
          "output_type": "stream",
          "name": "stdout",
          "text": [
            "Cost = 0.4337, Gradient Norm = 0.0568\n"
          ]
        },
        {
          "output_type": "stream",
          "name": "stderr",
          "text": [
            "training Progress:  33%|████████████▌                         | 331/1000 [01:40<04:27,  2.51epoch/s]"
          ]
        },
        {
          "output_type": "stream",
          "name": "stdout",
          "text": [
            "Cost = 0.4305, Gradient Norm = 0.0554\n"
          ]
        },
        {
          "output_type": "stream",
          "name": "stderr",
          "text": [
            "training Progress:  34%|████████████▉                         | 341/1000 [01:44<03:29,  3.14epoch/s]"
          ]
        },
        {
          "output_type": "stream",
          "name": "stdout",
          "text": [
            "Cost = 0.4275, Gradient Norm = 0.0541\n"
          ]
        },
        {
          "output_type": "stream",
          "name": "stderr",
          "text": [
            "training Progress:  35%|█████████████▎                        | 351/1000 [01:46<02:48,  3.85epoch/s]"
          ]
        },
        {
          "output_type": "stream",
          "name": "stdout",
          "text": [
            "Cost = 0.4247, Gradient Norm = 0.0529\n"
          ]
        },
        {
          "output_type": "stream",
          "name": "stderr",
          "text": [
            "training Progress:  36%|█████████████▋                        | 361/1000 [01:49<02:52,  3.69epoch/s]"
          ]
        },
        {
          "output_type": "stream",
          "name": "stdout",
          "text": [
            "Cost = 0.4219, Gradient Norm = 0.0517\n"
          ]
        },
        {
          "output_type": "stream",
          "name": "stderr",
          "text": [
            "training Progress:  37%|██████████████                        | 371/1000 [01:52<02:37,  4.00epoch/s]"
          ]
        },
        {
          "output_type": "stream",
          "name": "stdout",
          "text": [
            "Cost = 0.4193, Gradient Norm = 0.0506\n"
          ]
        },
        {
          "output_type": "stream",
          "name": "stderr",
          "text": [
            "training Progress:  38%|██████████████▍                       | 381/1000 [01:55<04:19,  2.39epoch/s]"
          ]
        },
        {
          "output_type": "stream",
          "name": "stdout",
          "text": [
            "Cost = 0.4168, Gradient Norm = 0.0496\n"
          ]
        },
        {
          "output_type": "stream",
          "name": "stderr",
          "text": [
            "training Progress:  39%|██████████████▊                       | 391/1000 [01:58<02:40,  3.78epoch/s]"
          ]
        },
        {
          "output_type": "stream",
          "name": "stdout",
          "text": [
            "Cost = 0.4144, Gradient Norm = 0.0486\n"
          ]
        },
        {
          "output_type": "stream",
          "name": "stderr",
          "text": [
            "training Progress:  40%|███████████████▏                      | 401/1000 [02:01<02:33,  3.91epoch/s]"
          ]
        },
        {
          "output_type": "stream",
          "name": "stdout",
          "text": [
            "Cost = 0.4121, Gradient Norm = 0.0476\n"
          ]
        },
        {
          "output_type": "stream",
          "name": "stderr",
          "text": [
            "training Progress:  41%|███████████████▌                      | 411/1000 [02:04<02:46,  3.55epoch/s]"
          ]
        },
        {
          "output_type": "stream",
          "name": "stdout",
          "text": [
            "Cost = 0.4098, Gradient Norm = 0.0467\n"
          ]
        },
        {
          "output_type": "stream",
          "name": "stderr",
          "text": [
            "training Progress:  42%|███████████████▉                      | 421/1000 [02:06<02:49,  3.42epoch/s]"
          ]
        },
        {
          "output_type": "stream",
          "name": "stdout",
          "text": [
            "Cost = 0.4077, Gradient Norm = 0.0458\n"
          ]
        },
        {
          "output_type": "stream",
          "name": "stderr",
          "text": [
            "training Progress:  43%|████████████████▍                     | 431/1000 [02:10<03:09,  3.00epoch/s]"
          ]
        },
        {
          "output_type": "stream",
          "name": "stdout",
          "text": [
            "Cost = 0.4056, Gradient Norm = 0.0450\n"
          ]
        },
        {
          "output_type": "stream",
          "name": "stderr",
          "text": [
            "training Progress:  44%|████████████████▊                     | 441/1000 [02:13<02:24,  3.87epoch/s]"
          ]
        },
        {
          "output_type": "stream",
          "name": "stdout",
          "text": [
            "Cost = 0.4037, Gradient Norm = 0.0442\n"
          ]
        },
        {
          "output_type": "stream",
          "name": "stderr",
          "text": [
            "training Progress:  45%|█████████████████▏                    | 451/1000 [02:16<02:20,  3.92epoch/s]"
          ]
        },
        {
          "output_type": "stream",
          "name": "stdout",
          "text": [
            "Cost = 0.4017, Gradient Norm = 0.0434\n"
          ]
        },
        {
          "output_type": "stream",
          "name": "stderr",
          "text": [
            "training Progress:  46%|█████████████████▌                    | 461/1000 [02:18<02:15,  3.98epoch/s]"
          ]
        },
        {
          "output_type": "stream",
          "name": "stdout",
          "text": [
            "Cost = 0.3999, Gradient Norm = 0.0427\n"
          ]
        },
        {
          "output_type": "stream",
          "name": "stderr",
          "text": [
            "training Progress:  47%|█████████████████▉                    | 471/1000 [02:22<03:34,  2.47epoch/s]"
          ]
        },
        {
          "output_type": "stream",
          "name": "stdout",
          "text": [
            "Cost = 0.3981, Gradient Norm = 0.0420\n"
          ]
        },
        {
          "output_type": "stream",
          "name": "stderr",
          "text": [
            "training Progress:  48%|██████████████████▎                   | 481/1000 [02:25<02:23,  3.61epoch/s]"
          ]
        },
        {
          "output_type": "stream",
          "name": "stdout",
          "text": [
            "Cost = 0.3963, Gradient Norm = 0.0413\n"
          ]
        },
        {
          "output_type": "stream",
          "name": "stderr",
          "text": [
            "training Progress:  49%|██████████████████▋                   | 491/1000 [02:27<02:07,  3.99epoch/s]"
          ]
        },
        {
          "output_type": "stream",
          "name": "stdout",
          "text": [
            "Cost = 0.3947, Gradient Norm = 0.0406\n"
          ]
        },
        {
          "output_type": "stream",
          "name": "stderr",
          "text": [
            "training Progress:  50%|███████████████████                   | 501/1000 [02:30<02:11,  3.79epoch/s]"
          ]
        },
        {
          "output_type": "stream",
          "name": "stdout",
          "text": [
            "Cost = 0.3930, Gradient Norm = 0.0400\n"
          ]
        },
        {
          "output_type": "stream",
          "name": "stderr",
          "text": [
            "training Progress:  51%|███████████████████▍                  | 511/1000 [02:33<02:10,  3.76epoch/s]"
          ]
        },
        {
          "output_type": "stream",
          "name": "stdout",
          "text": [
            "Cost = 0.3915, Gradient Norm = 0.0394\n"
          ]
        },
        {
          "output_type": "stream",
          "name": "stderr",
          "text": [
            "training Progress:  52%|███████████████████▊                  | 521/1000 [02:37<03:28,  2.30epoch/s]"
          ]
        },
        {
          "output_type": "stream",
          "name": "stdout",
          "text": [
            "Cost = 0.3899, Gradient Norm = 0.0388\n"
          ]
        },
        {
          "output_type": "stream",
          "name": "stderr",
          "text": [
            "training Progress:  53%|████████████████████▏                 | 531/1000 [02:39<02:21,  3.31epoch/s]"
          ]
        },
        {
          "output_type": "stream",
          "name": "stdout",
          "text": [
            "Cost = 0.3884, Gradient Norm = 0.0383\n"
          ]
        },
        {
          "output_type": "stream",
          "name": "stderr",
          "text": [
            "training Progress:  54%|████████████████████▌                 | 541/1000 [02:42<02:06,  3.62epoch/s]"
          ]
        },
        {
          "output_type": "stream",
          "name": "stdout",
          "text": [
            "Cost = 0.3870, Gradient Norm = 0.0377\n"
          ]
        },
        {
          "output_type": "stream",
          "name": "stderr",
          "text": [
            "training Progress:  55%|████████████████████▉                 | 551/1000 [02:45<01:56,  3.86epoch/s]"
          ]
        },
        {
          "output_type": "stream",
          "name": "stdout",
          "text": [
            "Cost = 0.3856, Gradient Norm = 0.0372\n"
          ]
        },
        {
          "output_type": "stream",
          "name": "stderr",
          "text": [
            "training Progress:  56%|█████████████████████▎                | 561/1000 [02:48<02:46,  2.63epoch/s]"
          ]
        },
        {
          "output_type": "stream",
          "name": "stdout",
          "text": [
            "Cost = 0.3842, Gradient Norm = 0.0367\n"
          ]
        },
        {
          "output_type": "stream",
          "name": "stderr",
          "text": [
            "training Progress:  57%|█████████████████████▋                | 571/1000 [02:52<02:03,  3.48epoch/s]"
          ]
        },
        {
          "output_type": "stream",
          "name": "stdout",
          "text": [
            "Cost = 0.3829, Gradient Norm = 0.0362\n"
          ]
        },
        {
          "output_type": "stream",
          "name": "stderr",
          "text": [
            "training Progress:  58%|██████████████████████                | 581/1000 [02:54<01:47,  3.88epoch/s]"
          ]
        },
        {
          "output_type": "stream",
          "name": "stdout",
          "text": [
            "Cost = 0.3816, Gradient Norm = 0.0357\n"
          ]
        },
        {
          "output_type": "stream",
          "name": "stderr",
          "text": [
            "training Progress:  59%|██████████████████████▍               | 591/1000 [02:57<01:45,  3.89epoch/s]"
          ]
        },
        {
          "output_type": "stream",
          "name": "stdout",
          "text": [
            "Cost = 0.3803, Gradient Norm = 0.0352\n"
          ]
        },
        {
          "output_type": "stream",
          "name": "stderr",
          "text": [
            "training Progress:  60%|██████████████████████▊               | 601/1000 [02:59<01:43,  3.85epoch/s]"
          ]
        },
        {
          "output_type": "stream",
          "name": "stdout",
          "text": [
            "Cost = 0.3791, Gradient Norm = 0.0348\n"
          ]
        },
        {
          "output_type": "stream",
          "name": "stderr",
          "text": [
            "training Progress:  61%|███████████████████████▏              | 611/1000 [03:03<03:02,  2.13epoch/s]"
          ]
        },
        {
          "output_type": "stream",
          "name": "stdout",
          "text": [
            "Cost = 0.3779, Gradient Norm = 0.0344\n"
          ]
        },
        {
          "output_type": "stream",
          "name": "stderr",
          "text": [
            "training Progress:  62%|███████████████████████▌              | 621/1000 [03:07<01:58,  3.20epoch/s]"
          ]
        },
        {
          "output_type": "stream",
          "name": "stdout",
          "text": [
            "Cost = 0.3768, Gradient Norm = 0.0339\n"
          ]
        },
        {
          "output_type": "stream",
          "name": "stderr",
          "text": [
            "training Progress:  63%|███████████████████████▉              | 631/1000 [03:10<01:49,  3.37epoch/s]"
          ]
        },
        {
          "output_type": "stream",
          "name": "stdout",
          "text": [
            "Cost = 0.3756, Gradient Norm = 0.0335\n"
          ]
        },
        {
          "output_type": "stream",
          "name": "stderr",
          "text": [
            "training Progress:  64%|████████████████████████▎             | 641/1000 [03:13<01:43,  3.48epoch/s]"
          ]
        },
        {
          "output_type": "stream",
          "name": "stdout",
          "text": [
            "Cost = 0.3745, Gradient Norm = 0.0331\n"
          ]
        },
        {
          "output_type": "stream",
          "name": "stderr",
          "text": [
            "training Progress:  65%|████████████████████████▋             | 651/1000 [03:17<02:40,  2.17epoch/s]"
          ]
        },
        {
          "output_type": "stream",
          "name": "stdout",
          "text": [
            "Cost = 0.3734, Gradient Norm = 0.0327\n"
          ]
        },
        {
          "output_type": "stream",
          "name": "stderr",
          "text": [
            "training Progress:  66%|█████████████████████████             | 661/1000 [03:20<01:36,  3.51epoch/s]"
          ]
        },
        {
          "output_type": "stream",
          "name": "stdout",
          "text": [
            "Cost = 0.3724, Gradient Norm = 0.0324\n"
          ]
        },
        {
          "output_type": "stream",
          "name": "stderr",
          "text": [
            "training Progress:  67%|█████████████████████████▍            | 671/1000 [03:23<01:27,  3.77epoch/s]"
          ]
        },
        {
          "output_type": "stream",
          "name": "stdout",
          "text": [
            "Cost = 0.3713, Gradient Norm = 0.0320\n"
          ]
        },
        {
          "output_type": "stream",
          "name": "stderr",
          "text": [
            "training Progress:  68%|█████████████████████████▉            | 681/1000 [03:26<01:29,  3.58epoch/s]"
          ]
        },
        {
          "output_type": "stream",
          "name": "stdout",
          "text": [
            "Cost = 0.3703, Gradient Norm = 0.0316\n"
          ]
        },
        {
          "output_type": "stream",
          "name": "stderr",
          "text": [
            "training Progress:  69%|██████████████████████████▎           | 691/1000 [03:29<01:44,  2.96epoch/s]"
          ]
        },
        {
          "output_type": "stream",
          "name": "stdout",
          "text": [
            "Cost = 0.3693, Gradient Norm = 0.0313\n"
          ]
        },
        {
          "output_type": "stream",
          "name": "stderr",
          "text": [
            "training Progress:  70%|██████████████████████████▋           | 701/1000 [03:33<01:53,  2.64epoch/s]"
          ]
        },
        {
          "output_type": "stream",
          "name": "stdout",
          "text": [
            "Cost = 0.3684, Gradient Norm = 0.0309\n"
          ]
        },
        {
          "output_type": "stream",
          "name": "stderr",
          "text": [
            "training Progress:  71%|███████████████████████████           | 711/1000 [03:36<01:17,  3.72epoch/s]"
          ]
        },
        {
          "output_type": "stream",
          "name": "stdout",
          "text": [
            "Cost = 0.3674, Gradient Norm = 0.0306\n"
          ]
        },
        {
          "output_type": "stream",
          "name": "stderr",
          "text": [
            "training Progress:  72%|███████████████████████████▍          | 721/1000 [03:38<01:15,  3.71epoch/s]"
          ]
        },
        {
          "output_type": "stream",
          "name": "stdout",
          "text": [
            "Cost = 0.3665, Gradient Norm = 0.0303\n"
          ]
        },
        {
          "output_type": "stream",
          "name": "stderr",
          "text": [
            "training Progress:  73%|███████████████████████████▊          | 731/1000 [03:41<01:18,  3.41epoch/s]"
          ]
        },
        {
          "output_type": "stream",
          "name": "stdout",
          "text": [
            "Cost = 0.3656, Gradient Norm = 0.0300\n"
          ]
        },
        {
          "output_type": "stream",
          "name": "stderr",
          "text": [
            "training Progress:  74%|████████████████████████████▏         | 741/1000 [03:45<01:48,  2.38epoch/s]"
          ]
        },
        {
          "output_type": "stream",
          "name": "stdout",
          "text": [
            "Cost = 0.3647, Gradient Norm = 0.0297\n"
          ]
        },
        {
          "output_type": "stream",
          "name": "stderr",
          "text": [
            "training Progress:  75%|████████████████████████████▌         | 751/1000 [03:48<01:13,  3.39epoch/s]"
          ]
        },
        {
          "output_type": "stream",
          "name": "stdout",
          "text": [
            "Cost = 0.3638, Gradient Norm = 0.0294\n"
          ]
        },
        {
          "output_type": "stream",
          "name": "stderr",
          "text": [
            "training Progress:  76%|████████████████████████████▉         | 761/1000 [03:51<01:00,  3.96epoch/s]"
          ]
        },
        {
          "output_type": "stream",
          "name": "stdout",
          "text": [
            "Cost = 0.3630, Gradient Norm = 0.0291\n"
          ]
        },
        {
          "output_type": "stream",
          "name": "stderr",
          "text": [
            "training Progress:  77%|█████████████████████████████▎        | 771/1000 [03:53<00:59,  3.83epoch/s]"
          ]
        },
        {
          "output_type": "stream",
          "name": "stdout",
          "text": [
            "Cost = 0.3621, Gradient Norm = 0.0288\n"
          ]
        },
        {
          "output_type": "stream",
          "name": "stderr",
          "text": [
            "training Progress:  78%|█████████████████████████████▋        | 781/1000 [03:56<00:58,  3.72epoch/s]"
          ]
        },
        {
          "output_type": "stream",
          "name": "stdout",
          "text": [
            "Cost = 0.3613, Gradient Norm = 0.0285\n"
          ]
        },
        {
          "output_type": "stream",
          "name": "stderr",
          "text": [
            "training Progress:  79%|██████████████████████████████        | 791/1000 [04:00<01:28,  2.37epoch/s]"
          ]
        },
        {
          "output_type": "stream",
          "name": "stdout",
          "text": [
            "Cost = 0.3605, Gradient Norm = 0.0283\n"
          ]
        },
        {
          "output_type": "stream",
          "name": "stderr",
          "text": [
            "training Progress:  80%|██████████████████████████████▍       | 801/1000 [04:03<00:55,  3.59epoch/s]"
          ]
        },
        {
          "output_type": "stream",
          "name": "stdout",
          "text": [
            "Cost = 0.3597, Gradient Norm = 0.0280\n"
          ]
        },
        {
          "output_type": "stream",
          "name": "stderr",
          "text": [
            "training Progress:  81%|██████████████████████████████▊       | 811/1000 [04:06<00:48,  3.91epoch/s]"
          ]
        },
        {
          "output_type": "stream",
          "name": "stdout",
          "text": [
            "Cost = 0.3589, Gradient Norm = 0.0277\n"
          ]
        },
        {
          "output_type": "stream",
          "name": "stderr",
          "text": [
            "training Progress:  82%|███████████████████████████████▏      | 821/1000 [04:08<00:45,  3.93epoch/s]"
          ]
        },
        {
          "output_type": "stream",
          "name": "stdout",
          "text": [
            "Cost = 0.3582, Gradient Norm = 0.0275\n"
          ]
        },
        {
          "output_type": "stream",
          "name": "stderr",
          "text": [
            "training Progress:  83%|███████████████████████████████▌      | 831/1000 [04:11<01:05,  2.58epoch/s]"
          ]
        },
        {
          "output_type": "stream",
          "name": "stdout",
          "text": [
            "Cost = 0.3574, Gradient Norm = 0.0272\n"
          ]
        },
        {
          "output_type": "stream",
          "name": "stderr",
          "text": [
            "training Progress:  84%|███████████████████████████████▉      | 841/1000 [04:15<00:46,  3.41epoch/s]"
          ]
        },
        {
          "output_type": "stream",
          "name": "stdout",
          "text": [
            "Cost = 0.3567, Gradient Norm = 0.0270\n"
          ]
        },
        {
          "output_type": "stream",
          "name": "stderr",
          "text": [
            "training Progress:  85%|████████████████████████████████▎     | 851/1000 [04:18<00:37,  3.95epoch/s]"
          ]
        },
        {
          "output_type": "stream",
          "name": "stdout",
          "text": [
            "Cost = 0.3560, Gradient Norm = 0.0267\n"
          ]
        },
        {
          "output_type": "stream",
          "name": "stderr",
          "text": [
            "training Progress:  86%|████████████████████████████████▋     | 861/1000 [04:20<00:37,  3.74epoch/s]"
          ]
        },
        {
          "output_type": "stream",
          "name": "stdout",
          "text": [
            "Cost = 0.3552, Gradient Norm = 0.0265\n"
          ]
        },
        {
          "output_type": "stream",
          "name": "stderr",
          "text": [
            "training Progress:  87%|█████████████████████████████████     | 871/1000 [04:23<00:33,  3.80epoch/s]"
          ]
        },
        {
          "output_type": "stream",
          "name": "stdout",
          "text": [
            "Cost = 0.3545, Gradient Norm = 0.0263\n"
          ]
        },
        {
          "output_type": "stream",
          "name": "stderr",
          "text": [
            "training Progress:  88%|█████████████████████████████████▍    | 881/1000 [04:27<00:53,  2.23epoch/s]"
          ]
        },
        {
          "output_type": "stream",
          "name": "stdout",
          "text": [
            "Cost = 0.3539, Gradient Norm = 0.0261\n"
          ]
        },
        {
          "output_type": "stream",
          "name": "stderr",
          "text": [
            "training Progress:  89%|█████████████████████████████████▊    | 891/1000 [04:30<00:29,  3.70epoch/s]"
          ]
        },
        {
          "output_type": "stream",
          "name": "stdout",
          "text": [
            "Cost = 0.3532, Gradient Norm = 0.0258\n"
          ]
        },
        {
          "output_type": "stream",
          "name": "stderr",
          "text": [
            "training Progress:  90%|██████████████████████████████████▏   | 901/1000 [04:33<00:34,  2.85epoch/s]"
          ]
        },
        {
          "output_type": "stream",
          "name": "stdout",
          "text": [
            "Cost = 0.3525, Gradient Norm = 0.0256\n"
          ]
        },
        {
          "output_type": "stream",
          "name": "stderr",
          "text": [
            "training Progress:  91%|██████████████████████████████████▌   | 911/1000 [04:36<00:23,  3.77epoch/s]"
          ]
        },
        {
          "output_type": "stream",
          "name": "stdout",
          "text": [
            "Cost = 0.3519, Gradient Norm = 0.0254\n"
          ]
        },
        {
          "output_type": "stream",
          "name": "stderr",
          "text": [
            "training Progress:  92%|██████████████████████████████████▉   | 921/1000 [04:39<00:31,  2.50epoch/s]"
          ]
        },
        {
          "output_type": "stream",
          "name": "stdout",
          "text": [
            "Cost = 0.3512, Gradient Norm = 0.0252\n"
          ]
        },
        {
          "output_type": "stream",
          "name": "stderr",
          "text": [
            "training Progress:  93%|███████████████████████████████████▍  | 931/1000 [04:43<00:20,  3.39epoch/s]"
          ]
        },
        {
          "output_type": "stream",
          "name": "stdout",
          "text": [
            "Cost = 0.3506, Gradient Norm = 0.0250\n"
          ]
        },
        {
          "output_type": "stream",
          "name": "stderr",
          "text": [
            "training Progress:  94%|███████████████████████████████████▊  | 941/1000 [04:46<00:16,  3.58epoch/s]"
          ]
        },
        {
          "output_type": "stream",
          "name": "stdout",
          "text": [
            "Cost = 0.3500, Gradient Norm = 0.0248\n"
          ]
        },
        {
          "output_type": "stream",
          "name": "stderr",
          "text": [
            "training Progress:  95%|████████████████████████████████████▏ | 951/1000 [04:48<00:12,  3.89epoch/s]"
          ]
        },
        {
          "output_type": "stream",
          "name": "stdout",
          "text": [
            "Cost = 0.3494, Gradient Norm = 0.0246\n"
          ]
        },
        {
          "output_type": "stream",
          "name": "stderr",
          "text": [
            "training Progress:  96%|████████████████████████████████████▌ | 961/1000 [04:51<00:09,  3.93epoch/s]"
          ]
        },
        {
          "output_type": "stream",
          "name": "stdout",
          "text": [
            "Cost = 0.3488, Gradient Norm = 0.0244\n"
          ]
        },
        {
          "output_type": "stream",
          "name": "stderr",
          "text": [
            "training Progress:  97%|████████████████████████████████████▉ | 971/1000 [04:55<00:12,  2.25epoch/s]"
          ]
        },
        {
          "output_type": "stream",
          "name": "stdout",
          "text": [
            "Cost = 0.3482, Gradient Norm = 0.0242\n"
          ]
        },
        {
          "output_type": "stream",
          "name": "stderr",
          "text": [
            "training Progress:  98%|█████████████████████████████████████▎| 981/1000 [04:58<00:05,  3.72epoch/s]"
          ]
        },
        {
          "output_type": "stream",
          "name": "stdout",
          "text": [
            "Cost = 0.3476, Gradient Norm = 0.0241\n"
          ]
        },
        {
          "output_type": "stream",
          "name": "stderr",
          "text": [
            "training Progress:  99%|█████████████████████████████████████▋| 991/1000 [05:01<00:02,  3.83epoch/s]"
          ]
        },
        {
          "output_type": "stream",
          "name": "stdout",
          "text": [
            "Cost = 0.3470, Gradient Norm = 0.0239\n"
          ]
        },
        {
          "output_type": "stream",
          "name": "stderr",
          "text": [
            "training Progress: 100%|█████████████████████████████████████| 1000/1000 [05:03<00:00,  3.30epoch/s]\n"
          ]
        },
        {
          "output_type": "display_data",
          "data": {
            "text/plain": [
              "<Figure size 640x480 with 1 Axes>"
            ],
            "image/png": "[encoded data removed]"
          },
          "metadata": {}
        }
      ]
    },
    {
      "cell_type": "markdown",
      "source": [
        "# Evaluation part"
      ],
      "metadata": {
        "id": "SYeoxuEb8Gby"
      }
    },
    {
      "cell_type": "markdown",
      "source": [
        "## prediciton on test dataset"
      ],
      "metadata": {
        "id": "N83Jz-xv8NNG"
      }
    },
    {
      "cell_type": "code",
      "source": [
        "def predict(X, Theta):\n",
        "    P = predict_probabilities(X, Theta)\n",
        "    predictions = np.argmax(P, axis=1)\n",
        "    return predictions, P\n",
        "\n",
        "#--------------------------------------------------------\n",
        "X_test_bias = add_bias_term(X_test)\n",
        "y_pred, P_test = predict(X_test_bias, Theta_opt)"
      ],
      "metadata": {
        "id": "i249RvsF6lFe"
      },
      "execution_count": null,
      "outputs": []
    },
    {
      "cell_type": "markdown",
      "source": [
        "## Confusion matrix"
      ],
      "metadata": {
        "id": "1rLAsPNI8TLn"
      }
    },
    {
      "cell_type": "code",
      "source": [
        "conf_matrix = confusion_matrix(y_test, y_pred)\n",
        "\n",
        "plt.figure(figsize=(10, 7))\n",
        "sns.heatmap(conf_matrix, annot=True, fmt=\"d\", cmap=\"Blues\", xticklabels=range(10), yticklabels=range(10))\n",
        "plt.xlabel(\"Predicted Labels\")\n",
        "plt.ylabel(\"True Labels\")\n",
        "plt.title(\"Confusion Matrix\")\n",
        "plt.show()"
      ],
      "metadata": {
        "colab": {
          "base_uri": "https://localhost:8080/",
          "height": 641
        },
        "id": "GklmLDcW6zyj",
        "outputId": "410f4582-0869-4e96-cfc9-3a9311ce14f9"
      },
      "execution_count": null,
      "outputs": [
        {
          "output_type": "display_data",
          "data": {
            "text/plain": [
              "<Figure size 1000x700 with 2 Axes>"
            ],
            "image/png": "[encoded data removed]"
          },
          "metadata": {}
        }
      ]
    },
    {
      "cell_type": "markdown",
      "source": [
        "## precision, recall, f1_score, support"
      ],
      "metadata": {
        "id": "XG05bbkS80RJ"
      }
    },
    {
      "cell_type": "code",
      "source": [
        "\n",
        "num_classes = conf_matrix.shape[0]\n",
        "\n",
        "# initializing precision, recall, f1_score\n",
        "precision = np.zeros(num_classes)\n",
        "recall = np.zeros(num_classes)\n",
        "f1_score = np.zeros(num_classes)\n",
        "\n",
        "# Calculting matrix of above things\n",
        "for i in range(num_classes):\n",
        "    TP = conf_matrix[i, i]  # True Positives\n",
        "    FP = np.sum(conf_matrix[:, i]) - TP  # False Positives\n",
        "    FN = np.sum(conf_matrix[i, :]) - TP  # False Negatives\n",
        "\n",
        "    precision[i] = TP / (TP + FP) if (TP + FP) > 0 else 0.0\n",
        "    recall[i] = TP / (TP + FN) if (TP + FN) > 0 else 0.0\n",
        "    f1_score[i] = 2 * (precision[i] * recall[i]) / (precision[i] + recall[i]) if (precision[i] + recall[i]) > 0 else 0.0\n",
        "\n",
        "# Printing\n",
        "print(\"\\nClassification matrics :\")\n",
        "for i in range(num_classes):\n",
        "    print(f\"Class {i}: Precision={precision[i]:.4f}, Recall={recall[i]:.4f}, F1-score={f1_score[i]:.4f}\")\n"
      ],
      "metadata": {
        "colab": {
          "base_uri": "https://localhost:8080/"
        },
        "id": "29iwnoRW6-JT",
        "outputId": "8214ee36-72f0-4a56-af67-a5a3e4d52c1a"
      },
      "execution_count": null,
      "outputs": [
        {
          "output_type": "stream",
          "name": "stdout",
          "text": [
            "\n",
            "Classification matrics :\n",
            "Class 0: Precision=0.9420, Recall=0.9586, F1-score=0.9502\n",
            "Class 1: Precision=0.9197, Recall=0.9599, F1-score=0.9394\n",
            "Class 2: Precision=0.8971, Recall=0.8557, F1-score=0.8759\n",
            "Class 3: Precision=0.8840, Recall=0.8760, F1-score=0.8800\n",
            "Class 4: Precision=0.9098, Recall=0.9152, F1-score=0.9125\n",
            "Class 5: Precision=0.8850, Recall=0.8376, F1-score=0.8607\n",
            "Class 6: Precision=0.9372, Recall=0.9451, F1-score=0.9411\n",
            "Class 7: Precision=0.9279, Recall=0.9042, F1-score=0.9159\n",
            "Class 8: Precision=0.8467, Recall=0.8684, F1-score=0.8574\n",
            "Class 9: Precision=0.8696, Recall=0.8908, F1-score=0.8800\n"
          ]
        }
      ]
    },
    {
      "cell_type": "markdown",
      "source": [
        "## Overall Accuracy"
      ],
      "metadata": {
        "id": "fh5Ovr7Y-uyF"
      }
    },
    {
      "cell_type": "code",
      "source": [
        "# overall accuracy\n",
        "accuracy = np.trace(conf_matrix) / np.sum(conf_matrix)\n",
        "print(f\"\\nAccuracy: {accuracy:.4f}\")\n"
      ],
      "metadata": {
        "colab": {
          "base_uri": "https://localhost:8080/"
        },
        "id": "w620KEo49Sbz",
        "outputId": "4a5cd2ab-12ea-46b1-d131-24bccc2a9624"
      },
      "execution_count": null,
      "outputs": [
        {
          "output_type": "stream",
          "name": "stdout",
          "text": [
            "\n",
            "Accuracy: 0.9024\n"
          ]
        }
      ]
    },
    {
      "cell_type": "markdown",
      "source": [
        "## ROC curve"
      ],
      "metadata": {
        "id": "JG-C_oM4-8ih"
      }
    },
    {
      "cell_type": "code",
      "source": [
        "\n",
        "plt.figure(figsize=(12, 8))\n",
        "for i in range(10):  # 10 classes\n",
        "    fpr, tpr, _ = roc_curve((y_test == i).astype(int), P_test[:, i])  # One-vs-all ROC curve\n",
        "    auc_score = auc(fpr, tpr)\n",
        "    plt.plot(fpr, tpr, label=f\"Class {i} (AUC = {auc_score:.2f})\")\n",
        "\n",
        "plt.plot([0, 1], [0, 1], 'k--', label=\"Random Classifier\")  # Diagonal line\n",
        "plt.xlabel(\"False Positive Rate\")\n",
        "plt.ylabel(\"True Positive Rate\")\n",
        "plt.title(\"ROC Curves for Each Class\")\n",
        "plt.legend()\n",
        "plt.grid()\n",
        "plt.show()\n"
      ],
      "metadata": {
        "colab": {
          "base_uri": "https://localhost:8080/",
          "height": 718
        },
        "id": "uy1mfiML7GPc",
        "outputId": "d224e81c-dcc7-4dcf-a0e6-ac65441cafe1"
      },
      "execution_count": null,
      "outputs": [
        {
          "output_type": "display_data",
          "data": {
            "text/plain": [
              "<Figure size 1200x800 with 1 Axes>"
            ],
            "image/png": "[encoded data removed]"
          },
          "metadata": {}
        }
      ]
    },
    {
      "cell_type": "markdown",
      "source": [
        "## Accuracy per class"
      ],
      "metadata": {
        "id": "sZrHt7Lh_CZf"
      }
    },
    {
      "cell_type": "code",
      "source": [
        "\n",
        "class_accuracy = conf_matrix.diagonal() / conf_matrix.sum(axis=1)\n",
        "plt.figure(figsize=(8, 5))\n",
        "plt.bar(range(10), class_accuracy, color=\"skyblue\")\n",
        "plt.xlabel(\"Class Label\")\n",
        "plt.ylabel(\"Accuracy\")\n",
        "plt.ylim(0, 1)\n",
        "plt.title(\"Accuracy per Class\")\n",
        "plt.xticks(range(10))\n",
        "plt.grid(axis=\"y\")\n",
        "plt.show()"
      ],
      "metadata": {
        "colab": {
          "base_uri": "https://localhost:8080/",
          "height": 487
        },
        "id": "BsDGCWkh7Ng6",
        "outputId": "bebeaa5b-a539-4cc4-e222-642786ab85ed"
      },
      "execution_count": null,
      "outputs": [
        {
          "output_type": "display_data",
          "data": {
            "text/plain": [
              "<Figure size 800x500 with 1 Axes>"
            ],
            "image/png": "[encoded data removed]"
          },
          "metadata": {}
        }
      ]
    },
    {
      "cell_type": "markdown",
      "source": [
        "## Some Predicition example"
      ],
      "metadata": {
        "id": "Dl9N8vEH_Kpm"
      }
    },
    {
      "cell_type": "code",
      "source": [
        "fig, axes = plt.subplots(2, 5, figsize=(12, 5))\n",
        "fig.suptitle(\"Sample Predictions\", fontsize=16)\n",
        "\n",
        "for i, ax in enumerate(axes.flat):\n",
        "    ax.imshow(X_test[i].reshape(28, 28), cmap=\"gray\")\n",
        "    ax.set_title(f\"True: {y_test[i]}, Pred: {y_pred[i]}\")\n",
        "    ax.axis(\"off\")\n",
        "\n",
        "plt.show()"
      ],
      "metadata": {
        "colab": {
          "base_uri": "https://localhost:8080/",
          "height": 464
        },
        "id": "9a-0d1t9jPPF",
        "outputId": "10f4e54c-0b5d-4d8f-a2c8-f08b93c431ae"
      },
      "execution_count": null,
      "outputs": [
        {
          "output_type": "display_data",
          "data": {
            "text/plain": [
              "<Figure size 1200x500 with 10 Axes>"
            ],
            "image/png": "[encoded data removed]"
          },
          "metadata": {}
        }
      ]
    }
  ]
}