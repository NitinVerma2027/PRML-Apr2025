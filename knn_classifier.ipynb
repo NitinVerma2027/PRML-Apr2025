{
  "nbformat": 4,
  "nbformat_minor": 0,
  "metadata": {
    "colab": {
      "provenance": [],
      "authorship_tag": "ABX9TyOPJmV0FKLwP9zNZGpIjYhm",
      "include_colab_link": true
    },
    "kernelspec": {
      "name": "python3",
      "display_name": "Python 3"
    },
    "language_info": {
      "name": "python"
    }
  },
  "cells": [
    {
      "cell_type": "markdown",
      "metadata": {
        "id": "view-in-github",
        "colab_type": "text"
      },
      "source": [
        "<a href=\"https://colab.research.google.com/github/NitinVerma2027/PRML-Apr2025/blob/main/knn_classifier.ipynb\" target=\"_parent\"><img src=\"https://colab.research.google.com/assets/colab-badge.svg\" alt=\"Open In Colab\"/></a>"
      ]
    },
    {
      "cell_type": "code",
      "execution_count": 1,
      "metadata": {
        "id": "dcx01ejYQsQb"
      },
      "outputs": [],
      "source": [
        "import pandas as pd\n",
        "import zipfile\n",
        "import os"
      ]
    },
    {
      "cell_type": "code",
      "source": [
        "# Define the path to the uploaded file\n",
        "zip_path = \"/content/MNIST_CSV.zip\"\n",
        "extract_path = \"/mnt/data/mnist_data\"\n",
        "\n",
        "# Extract the ZIP file\n",
        "with zipfile.ZipFile(zip_path, 'r') as zip_ref:\n",
        "    zip_ref.extractall(extract_path)\n",
        "\n",
        "# List the extracted files\n",
        "extracted_files = os.listdir(extract_path)\n",
        "print(\"Extracted Files:\", extracted_files)"
      ],
      "metadata": {
        "colab": {
          "base_uri": "https://localhost:8080/"
        },
        "id": "IYx7kxBPi3Jj",
        "outputId": "9e998414-6b51-43a4-efb6-04f868ffed6f"
      },
      "execution_count": 8,
      "outputs": [
        {
          "output_type": "stream",
          "name": "stdout",
          "text": [
            "Extracted Files: ['readme.md', 'generate_mnist_csv.py', 'mnist_train.csv', 'mnist_test.csv']\n"
          ]
        }
      ]
    },
    {
      "cell_type": "code",
      "source": [
        "# Load the CSV files (assuming standard MNIST naming conventions)\n",
        "train_file = os.path.join(extract_path, \"mnist_train.csv\")  # Update filename if needed\n",
        "\n",
        "# Read the CSV files\n",
        "train_data = pd.read_csv(train_file)\n",
        "\n",
        "# Display first few rows of each dataset\n",
        "print(\"\\nTraining Data Preview:\")\n",
        "print(train_data.head())\n",
        "\n",
        "# Check dataset shape\n",
        "print(\"\\nTraining Data Shape:\", train_data.shape)"
      ],
      "metadata": {
        "colab": {
          "base_uri": "https://localhost:8080/"
        },
        "id": "4kFekNV3jTNQ",
        "outputId": "76b3f299-0ff3-43b2-e584-6f5167f5e83d"
      },
      "execution_count": 9,
      "outputs": [
        {
          "output_type": "stream",
          "name": "stdout",
          "text": [
            "\n",
            "Training Data Preview:\n",
            "   5  0  0.1  0.2  0.3  0.4  0.5  0.6  0.7  0.8  ...  0.608  0.609  0.610  \\\n",
            "0  0  0    0    0    0    0    0    0    0    0  ...      0      0      0   \n",
            "1  4  0    0    0    0    0    0    0    0    0  ...      0      0      0   \n",
            "2  1  0    0    0    0    0    0    0    0    0  ...      0      0      0   \n",
            "3  9  0    0    0    0    0    0    0    0    0  ...      0      0      0   \n",
            "4  2  0    0    0    0    0    0    0    0    0  ...      0      0      0   \n",
            "\n",
            "   0.611  0.612  0.613  0.614  0.615  0.616  0.617  \n",
            "0      0      0      0      0      0      0      0  \n",
            "1      0      0      0      0      0      0      0  \n",
            "2      0      0      0      0      0      0      0  \n",
            "3      0      0      0      0      0      0      0  \n",
            "4      0      0      0      0      0      0      0  \n",
            "\n",
            "[5 rows x 785 columns]\n",
            "\n",
            "Training Data Shape: (59999, 785)\n"
          ]
        }
      ]
    },
    {
      "cell_type": "code",
      "source": [
        "# Load the CSV files (assuming standard MNIST naming conventions)\n",
        "test_file = os.path.join(extract_path, \"mnist_test.csv\")  # Update filename if needed\n",
        "\n",
        "# Read the CSV files\n",
        "test_data = pd.read_csv(test_file)\n",
        "\n",
        "# Display first few rows of each dataset\n",
        "print(\"\\nTesting Data Preview:\")\n",
        "print(test_data.head())\n",
        "\n",
        "# Check dataset shape\n",
        "print(\"Testing Data Shape:\", test_data.shape)"
      ],
      "metadata": {
        "colab": {
          "base_uri": "https://localhost:8080/"
        },
        "id": "w1vibmAlnc-n",
        "outputId": "96e4eb4f-153c-46cb-f552-1af50058b8c2"
      },
      "execution_count": 11,
      "outputs": [
        {
          "output_type": "stream",
          "name": "stdout",
          "text": [
            "\n",
            "Testing Data Preview:\n",
            "   7  0  0.1  0.2  0.3  0.4  0.5  0.6  0.7  0.8  ...  0.658  0.659  0.660  \\\n",
            "0  2  0    0    0    0    0    0    0    0    0  ...      0      0      0   \n",
            "1  1  0    0    0    0    0    0    0    0    0  ...      0      0      0   \n",
            "2  0  0    0    0    0    0    0    0    0    0  ...      0      0      0   \n",
            "3  4  0    0    0    0    0    0    0    0    0  ...      0      0      0   \n",
            "4  1  0    0    0    0    0    0    0    0    0  ...      0      0      0   \n",
            "\n",
            "   0.661  0.662  0.663  0.664  0.665  0.666  0.667  \n",
            "0      0      0      0      0      0      0      0  \n",
            "1      0      0      0      0      0      0      0  \n",
            "2      0      0      0      0      0      0      0  \n",
            "3      0      0      0      0      0      0      0  \n",
            "4      0      0      0      0      0      0      0  \n",
            "\n",
            "[5 rows x 785 columns]\n",
            "Testing Data Shape: (9999, 785)\n"
          ]
        }
      ]
    }
  ]
}